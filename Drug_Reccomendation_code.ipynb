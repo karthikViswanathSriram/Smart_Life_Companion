{
  "nbformat": 4,
  "nbformat_minor": 0,
  "metadata": {
    "colab": {
      "name": "Drug Reccomendation.ipynb",
      "provenance": [],
      "collapsed_sections": [],
      "machine_shape": "hm"
    },
    "kernelspec": {
      "name": "python3",
      "display_name": "Python 3"
    },
    "accelerator": "GPU"
  },
  "cells": [
    {
      "cell_type": "code",
      "metadata": {
        "id": "SC-pU2_-MSur",
        "colab": {
          "base_uri": "https://localhost:8080/"
        },
        "outputId": "647563e7-0944-4ff4-c996-f5c68b4c76ca"
      },
      "source": [
        "from google.colab import drive\r\n",
        "drive.mount('/content/drive')"
      ],
      "execution_count": null,
      "outputs": [
        {
          "output_type": "stream",
          "text": [
            "Mounted at /content/drive\n"
          ],
          "name": "stdout"
        }
      ]
    },
    {
      "cell_type": "code",
      "metadata": {
        "id": "W6wdWrU-Qy6n"
      },
      "source": [
        "from google.colab import files\r\n",
        "files.upload()\r\n",
        "!mkdir -p ~/.kaggle\r\n",
        "!cp kaggle.json ~/.kaggle/\r\n",
        "!chmod 600 ~/.kaggle/kaggle.json\r\n",
        "!kaggle datasets download -d jessicali9530/kuc-hackathon-winter-2018\r\n"
      ],
      "execution_count": null,
      "outputs": []
    },
    {
      "cell_type": "markdown",
      "metadata": {
        "id": "PVflIptxHyVo"
      },
      "source": [
        "**Data Downloading**"
      ]
    },
    {
      "cell_type": "code",
      "metadata": {
        "colab": {
          "base_uri": "https://localhost:8080/"
        },
        "id": "STz6zNkTBz3B",
        "outputId": "a06b4a5d-2be2-454a-b6ac-c276db6fbd4c"
      },
      "source": [
        "from zipfile import ZipFile\r\n",
        "file_name = \"kuc-hackathon-winter-2018.zip\"\r\n",
        "with ZipFile(file_name,'r') as zip:\r\n",
        "  zip.extractall()\r\n",
        "  print('Done!')"
      ],
      "execution_count": null,
      "outputs": [
        {
          "output_type": "stream",
          "text": [
            "Done!\n"
          ],
          "name": "stdout"
        }
      ]
    },
    {
      "cell_type": "code",
      "metadata": {
        "id": "djCvg9ATZAX1",
        "colab": {
          "base_uri": "https://localhost:8080/"
        },
        "outputId": "cb9f987c-4974-4ef9-e3bb-718d32049cf7"
      },
      "source": [
        "!cp \"/content/drive/MyDrive/glove.6B.100d.txt\" \"glove.6B.100d.txt\""
      ],
      "execution_count": null,
      "outputs": [
        {
          "output_type": "stream",
          "text": [
            "cp: cannot stat '/content/drive/MyDrive/glove.6B.100d.txt': No such file or directory\n"
          ],
          "name": "stdout"
        }
      ]
    },
    {
      "cell_type": "markdown",
      "metadata": {
        "id": "0EkTbM98H66G"
      },
      "source": [
        "**Importing all the necessary libraries**"
      ]
    },
    {
      "cell_type": "code",
      "metadata": {
        "colab": {
          "base_uri": "https://localhost:8080/"
        },
        "id": "Vl71Kk4WRrFi",
        "outputId": "b10a3b86-968e-4ddb-e3b8-102f2ee28f47"
      },
      "source": [
        "import pandas as pd\r\n",
        "import numpy as np\r\n",
        "from matplotlib import pyplot as plt\r\n",
        "from bs4 import BeautifulSoup\r\n",
        "import nltk\r\n",
        "import pickle\r\n",
        "from nltk.corpus import stopwords\r\n",
        "from nltk.stem.snowball import SnowballStemmer\r\n",
        "from sklearn.model_selection import train_test_split\r\n",
        "import re\r\n",
        "from tensorflow.keras import Model, Sequential\r\n",
        "from tensorflow.keras import regularizers\r\n",
        "from tensorflow.keras.preprocessing.text import Tokenizer\r\n",
        "from keras.models import load_model\r\n",
        "from tensorflow.keras.preprocessing.sequence import pad_sequences\r\n",
        "from tensorflow.keras.layers import Activation, Dense, Embedding, GlobalAveragePooling1D,Dropout,Bidirectional,LSTM\r\n",
        "from tensorflow.keras.layers.experimental.preprocessing import TextVectorization\r\n",
        "nltk.download('punkt')\r\n",
        "nltk.download('stopwords')"
      ],
      "execution_count": null,
      "outputs": [
        {
          "output_type": "stream",
          "text": [
            "[nltk_data] Downloading package punkt to /root/nltk_data...\n",
            "[nltk_data]   Package punkt is already up-to-date!\n",
            "[nltk_data] Downloading package stopwords to /root/nltk_data...\n",
            "[nltk_data]   Package stopwords is already up-to-date!\n"
          ],
          "name": "stdout"
        },
        {
          "output_type": "execute_result",
          "data": {
            "text/plain": [
              "True"
            ]
          },
          "metadata": {
            "tags": []
          },
          "execution_count": 3
        }
      ]
    },
    {
      "cell_type": "markdown",
      "metadata": {
        "id": "o6O89B_8IIWb"
      },
      "source": [
        "**Reading the data from CSV File**\r\n",
        "\r\n",
        "---\r\n",
        "\r\n",
        "\r\n",
        "Dataset link:- https://archive.ics.uci.edu/ml/datasets/Drug+Review+Dataset+%28Drugs.com%29 "
      ]
    },
    {
      "cell_type": "code",
      "metadata": {
        "id": "z7MVBbJSRYPF"
      },
      "source": [
        "df_train = pd.read_csv(\"drugsComTrain_raw.csv\")\r\n",
        "df_test = pd.read_csv(\"drugsComTest_raw.csv\")"
      ],
      "execution_count": null,
      "outputs": []
    },
    {
      "cell_type": "code",
      "metadata": {
        "colab": {
          "base_uri": "https://localhost:8080/"
        },
        "id": "W89Khz4YRuOY",
        "outputId": "6a01cfc1-96cd-4140-8f0c-e850510394d3"
      },
      "source": [
        "print(\"Train shape :\" ,df_train.shape)\r\n",
        "print(\"Test shape :\", df_test.shape)"
      ],
      "execution_count": null,
      "outputs": [
        {
          "output_type": "stream",
          "text": [
            "Train shape : (161297, 7)\n",
            "Test shape : (53766, 7)\n"
          ],
          "name": "stdout"
        }
      ]
    },
    {
      "cell_type": "markdown",
      "metadata": {
        "id": "rNlSBYB8OeiU"
      },
      "source": [
        "**Data Understanding**"
      ]
    },
    {
      "cell_type": "code",
      "metadata": {
        "colab": {
          "base_uri": "https://localhost:8080/",
          "height": 202
        },
        "id": "EuYj6YrHRwkE",
        "outputId": "e60b2105-30fa-4366-e45c-796e2fae235c"
      },
      "source": [
        "df_train.head()"
      ],
      "execution_count": null,
      "outputs": [
        {
          "output_type": "execute_result",
          "data": {
            "text/html": [
              "<div>\n",
              "<style scoped>\n",
              "    .dataframe tbody tr th:only-of-type {\n",
              "        vertical-align: middle;\n",
              "    }\n",
              "\n",
              "    .dataframe tbody tr th {\n",
              "        vertical-align: top;\n",
              "    }\n",
              "\n",
              "    .dataframe thead th {\n",
              "        text-align: right;\n",
              "    }\n",
              "</style>\n",
              "<table border=\"1\" class=\"dataframe\">\n",
              "  <thead>\n",
              "    <tr style=\"text-align: right;\">\n",
              "      <th></th>\n",
              "      <th>uniqueID</th>\n",
              "      <th>drugName</th>\n",
              "      <th>condition</th>\n",
              "      <th>review</th>\n",
              "      <th>rating</th>\n",
              "      <th>date</th>\n",
              "      <th>usefulCount</th>\n",
              "    </tr>\n",
              "  </thead>\n",
              "  <tbody>\n",
              "    <tr>\n",
              "      <th>0</th>\n",
              "      <td>206461</td>\n",
              "      <td>Valsartan</td>\n",
              "      <td>Left Ventricular Dysfunction</td>\n",
              "      <td>\"It has no side effect, I take it in combinati...</td>\n",
              "      <td>9</td>\n",
              "      <td>20-May-12</td>\n",
              "      <td>27</td>\n",
              "    </tr>\n",
              "    <tr>\n",
              "      <th>1</th>\n",
              "      <td>95260</td>\n",
              "      <td>Guanfacine</td>\n",
              "      <td>ADHD</td>\n",
              "      <td>\"My son is halfway through his fourth week of ...</td>\n",
              "      <td>8</td>\n",
              "      <td>27-Apr-10</td>\n",
              "      <td>192</td>\n",
              "    </tr>\n",
              "    <tr>\n",
              "      <th>2</th>\n",
              "      <td>92703</td>\n",
              "      <td>Lybrel</td>\n",
              "      <td>Birth Control</td>\n",
              "      <td>\"I used to take another oral contraceptive, wh...</td>\n",
              "      <td>5</td>\n",
              "      <td>14-Dec-09</td>\n",
              "      <td>17</td>\n",
              "    </tr>\n",
              "    <tr>\n",
              "      <th>3</th>\n",
              "      <td>138000</td>\n",
              "      <td>Ortho Evra</td>\n",
              "      <td>Birth Control</td>\n",
              "      <td>\"This is my first time using any form of birth...</td>\n",
              "      <td>8</td>\n",
              "      <td>3-Nov-15</td>\n",
              "      <td>10</td>\n",
              "    </tr>\n",
              "    <tr>\n",
              "      <th>4</th>\n",
              "      <td>35696</td>\n",
              "      <td>Buprenorphine / naloxone</td>\n",
              "      <td>Opiate Dependence</td>\n",
              "      <td>\"Suboxone has completely turned my life around...</td>\n",
              "      <td>9</td>\n",
              "      <td>27-Nov-16</td>\n",
              "      <td>37</td>\n",
              "    </tr>\n",
              "  </tbody>\n",
              "</table>\n",
              "</div>"
            ],
            "text/plain": [
              "   uniqueID                  drugName  ...       date usefulCount\n",
              "0    206461                 Valsartan  ...  20-May-12          27\n",
              "1     95260                Guanfacine  ...  27-Apr-10         192\n",
              "2     92703                    Lybrel  ...  14-Dec-09          17\n",
              "3    138000                Ortho Evra  ...   3-Nov-15          10\n",
              "4     35696  Buprenorphine / naloxone  ...  27-Nov-16          37\n",
              "\n",
              "[5 rows x 7 columns]"
            ]
          },
          "metadata": {
            "tags": []
          },
          "execution_count": 6
        }
      ]
    },
    {
      "cell_type": "code",
      "metadata": {
        "id": "BA6p9gMtS5sL"
      },
      "source": [
        "df_train = df_train.dropna(axis=0)\r\n",
        "df_test = df_test.dropna(axis=0)"
      ],
      "execution_count": null,
      "outputs": []
    },
    {
      "cell_type": "markdown",
      "metadata": {
        "id": "R64AHGJpOw_T"
      },
      "source": [
        "**Data concatenation**"
      ]
    },
    {
      "cell_type": "code",
      "metadata": {
        "id": "nsC84pgFTTgG"
      },
      "source": [
        "df_all = pd.concat([df_train,df_test]).reset_index()"
      ],
      "execution_count": null,
      "outputs": []
    },
    {
      "cell_type": "markdown",
      "metadata": {
        "id": "RAl-fEtpP7uF"
      },
      "source": [
        "On the other hand, it should be noted that the phrase \"3</span> users found this comment helpful\" appears in the condition, which seems like an error in the crawling process. I have looked into it to see in more details."
      ]
    },
    {
      "cell_type": "code",
      "metadata": {
        "id": "THexNmk0TV-V"
      },
      "source": [
        "all_list = set(df_all.index)\r\n",
        "span_list = []\r\n",
        "for i,j in enumerate(df_all['condition']):\r\n",
        "    if '</span>' in j:\r\n",
        "        span_list.append(i)"
      ],
      "execution_count": null,
      "outputs": []
    },
    {
      "cell_type": "code",
      "metadata": {
        "id": "ZOeAVRKSTYWJ"
      },
      "source": [
        "new_idx = all_list.difference(set(span_list))\r\n",
        "df_all = df_all.iloc[list(new_idx)].reset_index()\r\n",
        "del df_all['index']"
      ],
      "execution_count": null,
      "outputs": []
    },
    {
      "cell_type": "code",
      "metadata": {
        "colab": {
          "base_uri": "https://localhost:8080/",
          "height": 664
        },
        "id": "HYL7Nc9jTcZu",
        "outputId": "c237c244-f3fa-4859-d0b5-ec7e1c6647d8"
      },
      "source": [
        "df_condition = df_all.groupby(['condition'])['drugName'].nunique().sort_values(ascending=False)\r\n",
        "df_condition = pd.DataFrame(df_condition).reset_index()\r\n",
        "df_condition.tail(20)"
      ],
      "execution_count": null,
      "outputs": [
        {
          "output_type": "execute_result",
          "data": {
            "text/html": [
              "<div>\n",
              "<style scoped>\n",
              "    .dataframe tbody tr th:only-of-type {\n",
              "        vertical-align: middle;\n",
              "    }\n",
              "\n",
              "    .dataframe tbody tr th {\n",
              "        vertical-align: top;\n",
              "    }\n",
              "\n",
              "    .dataframe thead th {\n",
              "        text-align: right;\n",
              "    }\n",
              "</style>\n",
              "<table border=\"1\" class=\"dataframe\">\n",
              "  <thead>\n",
              "    <tr style=\"text-align: right;\">\n",
              "      <th></th>\n",
              "      <th>condition</th>\n",
              "      <th>drugName</th>\n",
              "    </tr>\n",
              "  </thead>\n",
              "  <tbody>\n",
              "    <tr>\n",
              "      <th>816</th>\n",
              "      <td>Hemangioma</td>\n",
              "      <td>1</td>\n",
              "    </tr>\n",
              "    <tr>\n",
              "      <th>817</th>\n",
              "      <td>Q Feve</td>\n",
              "      <td>1</td>\n",
              "    </tr>\n",
              "    <tr>\n",
              "      <th>818</th>\n",
              "      <td>Urinary Retention</td>\n",
              "      <td>1</td>\n",
              "    </tr>\n",
              "    <tr>\n",
              "      <th>819</th>\n",
              "      <td>Diagnostic Bronchograms</td>\n",
              "      <td>1</td>\n",
              "    </tr>\n",
              "    <tr>\n",
              "      <th>820</th>\n",
              "      <td>Steroid Responsive Inflammatory Conditions</td>\n",
              "      <td>1</td>\n",
              "    </tr>\n",
              "    <tr>\n",
              "      <th>821</th>\n",
              "      <td>Cluster-Tic Syndrome</td>\n",
              "      <td>1</td>\n",
              "    </tr>\n",
              "    <tr>\n",
              "      <th>822</th>\n",
              "      <td>Nausea (phosphorated carbohydrate solution)</td>\n",
              "      <td>1</td>\n",
              "    </tr>\n",
              "    <tr>\n",
              "      <th>823</th>\n",
              "      <td>Ramsay Hunt Syndrome</td>\n",
              "      <td>1</td>\n",
              "    </tr>\n",
              "    <tr>\n",
              "      <th>824</th>\n",
              "      <td>Rat-bite Feve</td>\n",
              "      <td>1</td>\n",
              "    </tr>\n",
              "    <tr>\n",
              "      <th>825</th>\n",
              "      <td>Hemorrhoids (pramoxine / zinc oxide)</td>\n",
              "      <td>1</td>\n",
              "    </tr>\n",
              "    <tr>\n",
              "      <th>826</th>\n",
              "      <td>Myotonia Congenita</td>\n",
              "      <td>1</td>\n",
              "    </tr>\n",
              "    <tr>\n",
              "      <th>827</th>\n",
              "      <td>Sepsis</td>\n",
              "      <td>1</td>\n",
              "    </tr>\n",
              "    <tr>\n",
              "      <th>828</th>\n",
              "      <td>ailure to Thrive</td>\n",
              "      <td>1</td>\n",
              "    </tr>\n",
              "    <tr>\n",
              "      <th>829</th>\n",
              "      <td>Hepatitis B Prevention</td>\n",
              "      <td>1</td>\n",
              "    </tr>\n",
              "    <tr>\n",
              "      <th>830</th>\n",
              "      <td>Transverse Myelitis</td>\n",
              "      <td>1</td>\n",
              "    </tr>\n",
              "    <tr>\n",
              "      <th>831</th>\n",
              "      <td>Tympanostomy Tube Placement Surgery</td>\n",
              "      <td>1</td>\n",
              "    </tr>\n",
              "    <tr>\n",
              "      <th>832</th>\n",
              "      <td>Muscle Twitching</td>\n",
              "      <td>1</td>\n",
              "    </tr>\n",
              "    <tr>\n",
              "      <th>833</th>\n",
              "      <td>Somatoform Pain Disorde</td>\n",
              "      <td>1</td>\n",
              "    </tr>\n",
              "    <tr>\n",
              "      <th>834</th>\n",
              "      <td>acial Lipoatrophy</td>\n",
              "      <td>1</td>\n",
              "    </tr>\n",
              "    <tr>\n",
              "      <th>835</th>\n",
              "      <td>Rabies Prophylaxis</td>\n",
              "      <td>1</td>\n",
              "    </tr>\n",
              "  </tbody>\n",
              "</table>\n",
              "</div>"
            ],
            "text/plain": [
              "                                       condition  drugName\n",
              "816                                   Hemangioma         1\n",
              "817                                       Q Feve         1\n",
              "818                            Urinary Retention         1\n",
              "819                      Diagnostic Bronchograms         1\n",
              "820   Steroid Responsive Inflammatory Conditions         1\n",
              "821                         Cluster-Tic Syndrome         1\n",
              "822  Nausea (phosphorated carbohydrate solution)         1\n",
              "823                         Ramsay Hunt Syndrome         1\n",
              "824                                Rat-bite Feve         1\n",
              "825         Hemorrhoids (pramoxine / zinc oxide)         1\n",
              "826                           Myotonia Congenita         1\n",
              "827                                       Sepsis         1\n",
              "828                             ailure to Thrive         1\n",
              "829                       Hepatitis B Prevention         1\n",
              "830                          Transverse Myelitis         1\n",
              "831          Tympanostomy Tube Placement Surgery         1\n",
              "832                             Muscle Twitching         1\n",
              "833                      Somatoform Pain Disorde         1\n",
              "834                            acial Lipoatrophy         1\n",
              "835                           Rabies Prophylaxis         1"
            ]
          },
          "metadata": {
            "tags": []
          },
          "execution_count": 11
        }
      ]
    },
    {
      "cell_type": "code",
      "metadata": {
        "colab": {
          "base_uri": "https://localhost:8080/"
        },
        "id": "1cgt0e3JTgyf",
        "outputId": "782653b6-fbdb-43d2-fbec-68377e8ec696"
      },
      "source": [
        "df_condition_1 = df_condition[df_condition['drugName']==1].reset_index()\r\n",
        "df_condition_1['condition'][0:10]"
      ],
      "execution_count": null,
      "outputs": [
        {
          "output_type": "execute_result",
          "data": {
            "text/plain": [
              "0                           Uveitis, Posteri\n",
              "1                    Pseudogout, Prophylaxis\n",
              "2                        Infectious Diarrhea\n",
              "3                   Thyroid Suppression Test\n",
              "4                                 Angioedema\n",
              "5                                Scleroderma\n",
              "6                                        mis\n",
              "7            Anti NMDA Receptor Encephalitis\n",
              "8                                     mist (\n",
              "9    Pruritus of Partial Biliary Obstruction\n",
              "Name: condition, dtype: object"
            ]
          },
          "metadata": {
            "tags": []
          },
          "execution_count": 12
        }
      ]
    },
    {
      "cell_type": "markdown",
      "metadata": {
        "id": "RNIGmPs2QS2c"
      },
      "source": [
        "**Reviews Cleaning using Text Pre processing**"
      ]
    },
    {
      "cell_type": "code",
      "metadata": {
        "id": "qzjnd6E6TjfW"
      },
      "source": [
        "stops = set(stopwords.words('english'))\r\n",
        "not_stop = [\"aren't\",\"couldn't\",\"didn't\",\"doesn't\",\"don't\",\"hadn't\",\"hasn't\",\"haven't\",\"isn't\",\"mightn't\",\"mustn't\",\"needn't\",\"no\",\"nor\",\"not\",\"shan't\",\"shouldn't\",\"wasn't\",\"weren't\",\"wouldn't\"]\r\n",
        "for i in not_stop:\r\n",
        "    stops.remove(i)"
      ],
      "execution_count": null,
      "outputs": []
    },
    {
      "cell_type": "code",
      "metadata": {
        "id": "C7DPYy6aoswk"
      },
      "source": [
        "with open('stops.pickle', 'wb') as handle:\r\n",
        "    pickle.dump(stops, handle, protocol=pickle.HIGHEST_PROTOCOL)"
      ],
      "execution_count": null,
      "outputs": []
    },
    {
      "cell_type": "code",
      "metadata": {
        "id": "2oZZqwVVUGgB"
      },
      "source": [
        "stemmer = SnowballStemmer('english')\r\n",
        "\r\n",
        "def review_to_words(raw_review):\r\n",
        "    # 1. Delete HTML \r\n",
        "    review_text = BeautifulSoup(raw_review, 'html.parser').get_text()\r\n",
        "    # 2. Make a space\r\n",
        "    letters_only = re.sub('[^a-zA-Z]', ' ', review_text)\r\n",
        "    # 3. lower letters\r\n",
        "    words = letters_only.lower().split()\r\n",
        "    # 5. Stopwords \r\n",
        "    meaningful_words = [w for w in words if not w in stops]\r\n",
        "    # 6. Stemming\r\n",
        "    stemming_words = [stemmer.stem(w) for w in meaningful_words]\r\n",
        "    # 7. space join words\r\n",
        "    return( ' '.join(stemming_words))\r\n"
      ],
      "execution_count": null,
      "outputs": []
    },
    {
      "cell_type": "code",
      "metadata": {
        "id": "0WN7bzDEpLTE"
      },
      "source": [
        "with open('review_to_words.pickle', 'wb') as handle:\r\n",
        "    pickle.dump(review_to_words, handle, protocol=pickle.HIGHEST_PROTOCOL)"
      ],
      "execution_count": null,
      "outputs": []
    },
    {
      "cell_type": "markdown",
      "metadata": {
        "id": "PsvPo6QfQ5as"
      },
      "source": [
        "**Classifying reviews as positive with 1 and negative with 0 based on rating.**"
      ]
    },
    {
      "cell_type": "code",
      "metadata": {
        "id": "KA9QKrPkUJcd"
      },
      "source": [
        "df_all['sentiment'] = df_all[\"rating\"].apply(lambda x: 1 if x > 5 else 0)\r\n",
        "df_all['review_clean'] = df_all['review'].apply(review_to_words)"
      ],
      "execution_count": null,
      "outputs": []
    },
    {
      "cell_type": "markdown",
      "metadata": {
        "id": "8pLXos_vRFjh"
      },
      "source": [
        "Splitting the data into train data and test data"
      ]
    },
    {
      "cell_type": "code",
      "metadata": {
        "id": "bb-9ZcFDUN4U"
      },
      "source": [
        "df_train, df_test = train_test_split(df_all, test_size=0.33, random_state=42) "
      ],
      "execution_count": null,
      "outputs": []
    },
    {
      "cell_type": "code",
      "metadata": {
        "colab": {
          "base_uri": "https://localhost:8080/",
          "height": 371
        },
        "id": "t2F5NMaJUX6c",
        "outputId": "56e8aac6-a23b-4845-fab3-5aa27a217cf7"
      },
      "source": [
        "df_train.head()"
      ],
      "execution_count": null,
      "outputs": [
        {
          "output_type": "execute_result",
          "data": {
            "text/html": [
              "<div>\n",
              "<style scoped>\n",
              "    .dataframe tbody tr th:only-of-type {\n",
              "        vertical-align: middle;\n",
              "    }\n",
              "\n",
              "    .dataframe tbody tr th {\n",
              "        vertical-align: top;\n",
              "    }\n",
              "\n",
              "    .dataframe thead th {\n",
              "        text-align: right;\n",
              "    }\n",
              "</style>\n",
              "<table border=\"1\" class=\"dataframe\">\n",
              "  <thead>\n",
              "    <tr style=\"text-align: right;\">\n",
              "      <th></th>\n",
              "      <th>level_0</th>\n",
              "      <th>uniqueID</th>\n",
              "      <th>drugName</th>\n",
              "      <th>condition</th>\n",
              "      <th>review</th>\n",
              "      <th>rating</th>\n",
              "      <th>date</th>\n",
              "      <th>usefulCount</th>\n",
              "      <th>sentiment</th>\n",
              "      <th>review_clean</th>\n",
              "    </tr>\n",
              "  </thead>\n",
              "  <tbody>\n",
              "    <tr>\n",
              "      <th>165087</th>\n",
              "      <td>166011</td>\n",
              "      <td>30482</td>\n",
              "      <td>Klonopin</td>\n",
              "      <td>Restless Legs Syndrome</td>\n",
              "      <td>\"Klonopin is as effective as turning off a swi...</td>\n",
              "      <td>9</td>\n",
              "      <td>30-Jul-08</td>\n",
              "      <td>125</td>\n",
              "      <td>1</td>\n",
              "      <td>klonopin effect turn switch no toler problem y...</td>\n",
              "    </tr>\n",
              "    <tr>\n",
              "      <th>186491</th>\n",
              "      <td>187534</td>\n",
              "      <td>193560</td>\n",
              "      <td>Cyclobenzaprine</td>\n",
              "      <td>Muscle Spasm</td>\n",
              "      <td>\"My back pain is about 80% gone, but I am real...</td>\n",
              "      <td>6</td>\n",
              "      <td>4-Nov-09</td>\n",
              "      <td>1</td>\n",
              "      <td>1</td>\n",
              "      <td>back pain gone realli constip sinc sunday wedn...</td>\n",
              "    </tr>\n",
              "    <tr>\n",
              "      <th>201271</th>\n",
              "      <td>202390</td>\n",
              "      <td>155532</td>\n",
              "      <td>Metronidazole</td>\n",
              "      <td>Bacterial Vaginitis</td>\n",
              "      <td>\"1 star rating for the pills. 10 stars for the...</td>\n",
              "      <td>5</td>\n",
              "      <td>4-Sep-14</td>\n",
              "      <td>21</td>\n",
              "      <td>0</td>\n",
              "      <td>star rate pill star cream diagnos urinari trac...</td>\n",
              "    </tr>\n",
              "    <tr>\n",
              "      <th>198372</th>\n",
              "      <td>199480</td>\n",
              "      <td>125305</td>\n",
              "      <td>Dulcolax</td>\n",
              "      <td>Constipation</td>\n",
              "      <td>\"I took 1 pill and about 6 hours later I was i...</td>\n",
              "      <td>3</td>\n",
              "      <td>13-Dec-15</td>\n",
              "      <td>8</td>\n",
              "      <td>0</td>\n",
              "      <td>took pill hour later extrem pain next hour cra...</td>\n",
              "    </tr>\n",
              "    <tr>\n",
              "      <th>204680</th>\n",
              "      <td>205811</td>\n",
              "      <td>32119</td>\n",
              "      <td>Wellbutrin XL</td>\n",
              "      <td>Depression</td>\n",
              "      <td>\"This medicine has saved my life.  I was on it...</td>\n",
              "      <td>10</td>\n",
              "      <td>1-Mar-14</td>\n",
              "      <td>149</td>\n",
              "      <td>1</td>\n",
              "      <td>medicin save life sever year mg felt help quit...</td>\n",
              "    </tr>\n",
              "  </tbody>\n",
              "</table>\n",
              "</div>"
            ],
            "text/plain": [
              "        level_0  ...                                       review_clean\n",
              "165087   166011  ...  klonopin effect turn switch no toler problem y...\n",
              "186491   187534  ...  back pain gone realli constip sinc sunday wedn...\n",
              "201271   202390  ...  star rate pill star cream diagnos urinari trac...\n",
              "198372   199480  ...  took pill hour later extrem pain next hour cra...\n",
              "204680   205811  ...  medicin save life sever year mg felt help quit...\n",
              "\n",
              "[5 rows x 10 columns]"
            ]
          },
          "metadata": {
            "tags": []
          },
          "execution_count": 19
        }
      ]
    },
    {
      "cell_type": "markdown",
      "metadata": {
        "id": "uh3POmyQRKQr"
      },
      "source": [
        "**Adding the embedding layer**"
      ]
    },
    {
      "cell_type": "code",
      "metadata": {
        "id": "5ChBGELSUdtt"
      },
      "source": [
        "embedding_dim = 100    \r\n",
        "max_length = 40        \r\n",
        "trunc_type='post'      \r\n",
        "padding_type='post'   \r\n",
        "oov_tok = \"<OOV>\""
      ],
      "execution_count": null,
      "outputs": []
    },
    {
      "cell_type": "markdown",
      "metadata": {
        "id": "l9b8ACAKRWJy"
      },
      "source": [
        "**Tokenising  and padding the cleaned reviews** "
      ]
    },
    {
      "cell_type": "code",
      "metadata": {
        "id": "cFWqVsImXHJ3"
      },
      "source": [
        "tokenizer = Tokenizer()\r\n",
        "tokenizer.fit_on_texts(df_train['review_clean'])\r\n",
        "\r\n",
        "word_index = tokenizer.word_index\r\n",
        "vocab_size=len(word_index)\r\n",
        "\r\n",
        "sequences = tokenizer.texts_to_sequences(df_train['review_clean'])\r\n",
        "padded = pad_sequences(sequences, maxlen=max_length, padding=padding_type, truncating=trunc_type)"
      ],
      "execution_count": null,
      "outputs": []
    },
    {
      "cell_type": "code",
      "metadata": {
        "id": "Hf6tzj1UpbPk"
      },
      "source": [
        "with open('tokenizer.pickle', 'wb') as handle:\r\n",
        "    pickle.dump(tokenizer, handle, protocol=pickle.HIGHEST_PROTOCOL)"
      ],
      "execution_count": null,
      "outputs": []
    },
    {
      "cell_type": "code",
      "metadata": {
        "id": "_aKeiSLWpwZ7"
      },
      "source": [
        "with open('pad_sequences.pickle', 'wb') as handle:\r\n",
        "    pickle.dump(pad_sequences, handle, protocol=pickle.HIGHEST_PROTOCOL)"
      ],
      "execution_count": null,
      "outputs": []
    },
    {
      "cell_type": "code",
      "metadata": {
        "colab": {
          "base_uri": "https://localhost:8080/"
        },
        "id": "d3JHUQrKfPOO",
        "outputId": "eb04b617-fe27-45fa-8f8c-dcaebd9f5b19"
      },
      "source": [
        "print(vocab_size)"
      ],
      "execution_count": null,
      "outputs": [
        {
          "output_type": "stream",
          "text": [
            "31057\n"
          ],
          "name": "stdout"
        }
      ]
    },
    {
      "cell_type": "code",
      "metadata": {
        "id": "64Upt0HKX8kS"
      },
      "source": [
        "embeddings_index = {};\r\n",
        "\r\n",
        "with open('pickle_files/glove.6B.100d.txt') as f:\r\n",
        "    for line in f:\r\n",
        "        values = line.split();\r\n",
        "        word = values[0];\r\n",
        "        coefs = np.asarray(values[1:], dtype='float32');\r\n",
        "        embeddings_index[word] = coefs;\r\n",
        "\r\n",
        "embeddings_matrix = np.zeros((vocab_size+1, embedding_dim));\r\n",
        "for word, i in word_index.items():\r\n",
        "    embedding_vector = embeddings_index.get(word);\r\n",
        "    if embedding_vector is not None:\r\n",
        "        embeddings_matrix[i] = embedding_vector;"
      ],
      "execution_count": null,
      "outputs": []
    },
    {
      "cell_type": "code",
      "metadata": {
        "colab": {
          "base_uri": "https://localhost:8080/"
        },
        "id": "ZmNgcg8BfCX1",
        "outputId": "15b000cf-f9f8-46e6-d9aa-7084387c4a67"
      },
      "source": [
        "print(embeddings_matrix.shape)"
      ],
      "execution_count": null,
      "outputs": [
        {
          "output_type": "stream",
          "text": [
            "(31058, 100)\n"
          ],
          "name": "stdout"
        }
      ]
    },
    {
      "cell_type": "code",
      "metadata": {
        "id": "uqzM8WVCp_xS"
      },
      "source": [
        "with open('embeddings_matrix.pickle', 'wb') as handle:\r\n",
        "    pickle.dump(embeddings_matrix, handle, protocol=pickle.HIGHEST_PROTOCOL)"
      ],
      "execution_count": null,
      "outputs": []
    },
    {
      "cell_type": "code",
      "metadata": {
        "id": "t1k7pu3vfx8s"
      },
      "source": [
        "sequences_test=tokenizer.texts_to_sequences(df_test['review_clean'])\r\n",
        "padded_test = pad_sequences(sequences_test, maxlen=max_length, padding=padding_type, truncating=trunc_type)"
      ],
      "execution_count": null,
      "outputs": []
    },
    {
      "cell_type": "markdown",
      "metadata": {
        "id": "Jkmg1YTuRrcs"
      },
      "source": [
        "**Making the Deep learning model using neural network**"
      ]
    },
    {
      "cell_type": "code",
      "metadata": {
        "colab": {
          "base_uri": "https://localhost:8080/"
        },
        "id": "ie0tK7E4fdml",
        "outputId": "5b5a4bc4-21ba-40b8-e1e1-0ca0d2c73652"
      },
      "source": [
        "model =Sequential([\r\n",
        "       Embedding(vocab_size+1, embedding_dim, input_length=max_length, weights=[embeddings_matrix], trainable=False),\r\n",
        "       Dropout(0.5),\r\n",
        "       Bidirectional(LSTM(units=64, return_sequences=True)),\r\n",
        "       Bidirectional(LSTM(units=128)),\r\n",
        "       Dense(64, activation='relu', kernel_regularizer=regularizers.l2(0.01)),\r\n",
        "       Dense(1, activation='sigmoid')\r\n",
        "    ])\r\n",
        "model.compile(loss='binary_crossentropy',optimizer='adam',metrics=['accuracy'])\r\n",
        "model.summary()\r\n",
        "\r\n",
        "num_epochs = 50\r\n",
        "\r\n",
        "training_padded = np.array(padded)\r\n",
        "training_labels = np.array(df_train['sentiment'])\r\n",
        "testing_padded = np.array(padded_test)\r\n",
        "testing_labels = np.array(df_test['sentiment'])\r\n",
        "\r\n",
        "history = model.fit(training_padded, \r\n",
        "                    training_labels, \r\n",
        "                    epochs=num_epochs, \r\n",
        "                    validation_data=(testing_padded, testing_labels),\r\n",
        "                    batch_size = 256)\r\n",
        "\r\n",
        "print(\"Training Complete\")\r\n"
      ],
      "execution_count": null,
      "outputs": [
        {
          "output_type": "stream",
          "text": [
            "Model: \"sequential\"\n",
            "_________________________________________________________________\n",
            "Layer (type)                 Output Shape              Param #   \n",
            "=================================================================\n",
            "embedding (Embedding)        (None, 40, 100)           3105800   \n",
            "_________________________________________________________________\n",
            "dropout (Dropout)            (None, 40, 100)           0         \n",
            "_________________________________________________________________\n",
            "bidirectional (Bidirectional (None, 40, 128)           84480     \n",
            "_________________________________________________________________\n",
            "bidirectional_1 (Bidirection (None, 256)               263168    \n",
            "_________________________________________________________________\n",
            "dense (Dense)                (None, 64)                16448     \n",
            "_________________________________________________________________\n",
            "dense_1 (Dense)              (None, 1)                 65        \n",
            "=================================================================\n",
            "Total params: 3,469,961\n",
            "Trainable params: 364,161\n",
            "Non-trainable params: 3,105,800\n",
            "_________________________________________________________________\n"
          ],
          "name": "stdout"
        }
      ]
    },
    {
      "cell_type": "code",
      "metadata": {
        "id": "zAIKIbwwoPxP"
      },
      "source": [
        "model.save('sentiment_model.h5')"
      ],
      "execution_count": null,
      "outputs": []
    },
    {
      "cell_type": "code",
      "metadata": {
        "id": "CK80_0xrqqrk"
      },
      "source": [
        "del model"
      ],
      "execution_count": null,
      "outputs": []
    },
    {
      "cell_type": "code",
      "metadata": {
        "id": "AWnvJJ8J9RKY",
        "colab": {
          "base_uri": "https://localhost:8080/"
        },
        "outputId": "a5b5df5c-7edb-433e-89b8-bb2ba165f851"
      },
      "source": [
        "from google.colab import drive\r\n",
        "drive.mount('/content/gdrive')"
      ],
      "execution_count": null,
      "outputs": [
        {
          "output_type": "stream",
          "text": [
            "Mounted at /content/gdrive\n"
          ],
          "name": "stdout"
        }
      ]
    },
    {
      "cell_type": "code",
      "metadata": {
        "id": "cj5bQ10797G0"
      },
      "source": [
        "!cp \"gdrive/My Drive/pickle_files.rar\" \"pickle_files.rar\"\r\n",
        "\r\n",
        "from pyunpack import Archive\r\n"
      ],
      "execution_count": null,
      "outputs": []
    },
    {
      "cell_type": "code",
      "metadata": {
        "id": "AP6b-ivWBBss"
      },
      "source": [
        "\r\n",
        "Archive('pickle_files.rar').extractall('')\r\n",
        "!rm \"pickle_files.rar\"\r\n"
      ],
      "execution_count": null,
      "outputs": []
    },
    {
      "cell_type": "markdown",
      "metadata": {
        "id": "-7PxKkN6R85I"
      },
      "source": [
        "**Loading the trained model file**"
      ]
    },
    {
      "cell_type": "code",
      "metadata": {
        "id": "7eFBEBb6qkvK"
      },
      "source": [
        "from keras.models import load_model\r\n",
        "model = load_model('pickle_files/sentiment_model.h5')"
      ],
      "execution_count": null,
      "outputs": []
    },
    {
      "cell_type": "code",
      "metadata": {
        "colab": {
          "base_uri": "https://localhost:8080/"
        },
        "id": "5wDE_Httr7hW",
        "outputId": "bfd2ccd7-93b1-4c76-a1bd-44e1a44ad6de"
      },
      "source": [
        "model.summary()"
      ],
      "execution_count": null,
      "outputs": [
        {
          "output_type": "stream",
          "text": [
            "Model: \"sequential\"\n",
            "_________________________________________________________________\n",
            "Layer (type)                 Output Shape              Param #   \n",
            "=================================================================\n",
            "embedding (Embedding)        (None, 40, 100)           3105800   \n",
            "_________________________________________________________________\n",
            "dropout (Dropout)            (None, 40, 100)           0         \n",
            "_________________________________________________________________\n",
            "bidirectional (Bidirectional (None, 40, 128)           84480     \n",
            "_________________________________________________________________\n",
            "bidirectional_1 (Bidirection (None, 256)               263168    \n",
            "_________________________________________________________________\n",
            "dense (Dense)                (None, 64)                16448     \n",
            "_________________________________________________________________\n",
            "dense_1 (Dense)              (None, 1)                 65        \n",
            "=================================================================\n",
            "Total params: 3,469,961\n",
            "Trainable params: 364,161\n",
            "Non-trainable params: 3,105,800\n",
            "_________________________________________________________________\n"
          ],
          "name": "stdout"
        }
      ]
    },
    {
      "cell_type": "code",
      "metadata": {
        "id": "oV68-ftSqzjA",
        "colab": {
          "base_uri": "https://localhost:8080/"
        },
        "outputId": "d309ed35-6ef4-4d95-a0a4-9969c46a310c"
      },
      "source": [
        "p=training_padded[0]\r\n",
        "print(training_padded.shape)"
      ],
      "execution_count": null,
      "outputs": [
        {
          "output_type": "stream",
          "text": [
            "(142507, 40)\n"
          ],
          "name": "stdout"
        }
      ]
    },
    {
      "cell_type": "code",
      "metadata": {
        "colab": {
          "base_uri": "https://localhost:8080/"
        },
        "id": "uwHN-elEush6",
        "outputId": "8bd5be89-ff0c-4085-fb13-58abaf52b114"
      },
      "source": [
        "type(p)"
      ],
      "execution_count": null,
      "outputs": [
        {
          "output_type": "execute_result",
          "data": {
            "text/plain": [
              "numpy.ndarray"
            ]
          },
          "metadata": {
            "tags": []
          },
          "execution_count": 36
        }
      ]
    },
    {
      "cell_type": "code",
      "metadata": {
        "id": "Z1c7D_UDsmqC"
      },
      "source": [
        "p=p.reshape(1,-1)"
      ],
      "execution_count": null,
      "outputs": []
    },
    {
      "cell_type": "code",
      "metadata": {
        "colab": {
          "base_uri": "https://localhost:8080/"
        },
        "id": "_stvXn7Gsqmy",
        "outputId": "6bddd88c-68e8-4e21-981f-cba5129c3dcf"
      },
      "source": [
        "model.predict(p)"
      ],
      "execution_count": null,
      "outputs": [
        {
          "output_type": "execute_result",
          "data": {
            "text/plain": [
              "array([[0.9899351]], dtype=float32)"
            ]
          },
          "metadata": {
            "tags": []
          },
          "execution_count": 38
        }
      ]
    },
    {
      "cell_type": "code",
      "metadata": {
        "colab": {
          "base_uri": "https://localhost:8080/",
          "height": 371
        },
        "id": "zKxyAX5bs33t",
        "outputId": "46e0bba4-dacc-45b5-b9f9-d1fa3b2a5c4a"
      },
      "source": [
        "df_all.head()"
      ],
      "execution_count": null,
      "outputs": [
        {
          "output_type": "execute_result",
          "data": {
            "text/html": [
              "<div>\n",
              "<style scoped>\n",
              "    .dataframe tbody tr th:only-of-type {\n",
              "        vertical-align: middle;\n",
              "    }\n",
              "\n",
              "    .dataframe tbody tr th {\n",
              "        vertical-align: top;\n",
              "    }\n",
              "\n",
              "    .dataframe thead th {\n",
              "        text-align: right;\n",
              "    }\n",
              "</style>\n",
              "<table border=\"1\" class=\"dataframe\">\n",
              "  <thead>\n",
              "    <tr style=\"text-align: right;\">\n",
              "      <th></th>\n",
              "      <th>level_0</th>\n",
              "      <th>uniqueID</th>\n",
              "      <th>drugName</th>\n",
              "      <th>condition</th>\n",
              "      <th>review</th>\n",
              "      <th>rating</th>\n",
              "      <th>date</th>\n",
              "      <th>usefulCount</th>\n",
              "      <th>sentiment</th>\n",
              "      <th>review_clean</th>\n",
              "    </tr>\n",
              "  </thead>\n",
              "  <tbody>\n",
              "    <tr>\n",
              "      <th>0</th>\n",
              "      <td>0</td>\n",
              "      <td>206461</td>\n",
              "      <td>Valsartan</td>\n",
              "      <td>Left Ventricular Dysfunction</td>\n",
              "      <td>\"It has no side effect, I take it in combinati...</td>\n",
              "      <td>9</td>\n",
              "      <td>20-May-12</td>\n",
              "      <td>27</td>\n",
              "      <td>1</td>\n",
              "      <td>no side effect take combin bystol mg fish oil</td>\n",
              "    </tr>\n",
              "    <tr>\n",
              "      <th>1</th>\n",
              "      <td>1</td>\n",
              "      <td>95260</td>\n",
              "      <td>Guanfacine</td>\n",
              "      <td>ADHD</td>\n",
              "      <td>\"My son is halfway through his fourth week of ...</td>\n",
              "      <td>8</td>\n",
              "      <td>27-Apr-10</td>\n",
              "      <td>192</td>\n",
              "      <td>1</td>\n",
              "      <td>son halfway fourth week intuniv becam concern ...</td>\n",
              "    </tr>\n",
              "    <tr>\n",
              "      <th>2</th>\n",
              "      <td>2</td>\n",
              "      <td>92703</td>\n",
              "      <td>Lybrel</td>\n",
              "      <td>Birth Control</td>\n",
              "      <td>\"I used to take another oral contraceptive, wh...</td>\n",
              "      <td>5</td>\n",
              "      <td>14-Dec-09</td>\n",
              "      <td>17</td>\n",
              "      <td>0</td>\n",
              "      <td>use take anoth oral contracept pill cycl happi...</td>\n",
              "    </tr>\n",
              "    <tr>\n",
              "      <th>3</th>\n",
              "      <td>3</td>\n",
              "      <td>138000</td>\n",
              "      <td>Ortho Evra</td>\n",
              "      <td>Birth Control</td>\n",
              "      <td>\"This is my first time using any form of birth...</td>\n",
              "      <td>8</td>\n",
              "      <td>3-Nov-15</td>\n",
              "      <td>10</td>\n",
              "      <td>1</td>\n",
              "      <td>first time use form birth control glad went pa...</td>\n",
              "    </tr>\n",
              "    <tr>\n",
              "      <th>4</th>\n",
              "      <td>4</td>\n",
              "      <td>35696</td>\n",
              "      <td>Buprenorphine / naloxone</td>\n",
              "      <td>Opiate Dependence</td>\n",
              "      <td>\"Suboxone has completely turned my life around...</td>\n",
              "      <td>9</td>\n",
              "      <td>27-Nov-16</td>\n",
              "      <td>37</td>\n",
              "      <td>1</td>\n",
              "      <td>suboxon complet turn life around feel healthie...</td>\n",
              "    </tr>\n",
              "  </tbody>\n",
              "</table>\n",
              "</div>"
            ],
            "text/plain": [
              "   level_0  ...                                       review_clean\n",
              "0        0  ...      no side effect take combin bystol mg fish oil\n",
              "1        1  ...  son halfway fourth week intuniv becam concern ...\n",
              "2        2  ...  use take anoth oral contracept pill cycl happi...\n",
              "3        3  ...  first time use form birth control glad went pa...\n",
              "4        4  ...  suboxon complet turn life around feel healthie...\n",
              "\n",
              "[5 rows x 10 columns]"
            ]
          },
          "metadata": {
            "tags": []
          },
          "execution_count": 39
        }
      ]
    },
    {
      "cell_type": "code",
      "metadata": {
        "id": "sBh0LN3Atowq"
      },
      "source": [
        "def predict(p,model):\r\n",
        "  p=p.reshape(1,-1)\r\n",
        "  return model.predict(p)[0][0]"
      ],
      "execution_count": null,
      "outputs": []
    },
    {
      "cell_type": "code",
      "metadata": {
        "colab": {
          "base_uri": "https://localhost:8080/"
        },
        "id": "jxHyPkTI71cy",
        "outputId": "97fb520a-4b6a-4f6b-8680-b2b111e2ebba"
      },
      "source": [
        "predict(testing_padded[5],model)"
      ],
      "execution_count": null,
      "outputs": [
        {
          "output_type": "execute_result",
          "data": {
            "text/plain": [
              "0.0741496"
            ]
          },
          "metadata": {
            "tags": []
          },
          "execution_count": 127
        }
      ]
    },
    {
      "cell_type": "code",
      "metadata": {
        "colab": {
          "base_uri": "https://localhost:8080/"
        },
        "id": "VwMNedjaGf1l",
        "outputId": "4443333d-2dad-4191-9564-62f1523cb4c9"
      },
      "source": [
        "import gc\r\n",
        "len_train = df_train.shape[0]\r\n",
        "df_all = pd.concat([df_train,df_test])\r\n",
        "del df_train, df_test;\r\n",
        "gc.collect()"
      ],
      "execution_count": null,
      "outputs": [
        {
          "output_type": "execute_result",
          "data": {
            "text/plain": [
              "31220"
            ]
          },
          "metadata": {
            "tags": []
          },
          "execution_count": 48
        }
      ]
    },
    {
      "cell_type": "code",
      "metadata": {
        "id": "BTTl5cUlGkEg"
      },
      "source": [
        "df_all['date'] = pd.to_datetime(df_all['date'])\r\n",
        "df_all['day'] = df_all['date'].dt.day\r\n",
        "df_all['year'] = df_all['date'].dt.year\r\n",
        "df_all['month'] = df_all['date'].dt.month"
      ],
      "execution_count": null,
      "outputs": []
    },
    {
      "cell_type": "markdown",
      "metadata": {
        "id": "WD2CYoSbTGtB"
      },
      "source": [
        "**Predicting sentiment of review using TextBlob**"
      ]
    },
    {
      "cell_type": "code",
      "metadata": {
        "colab": {
          "base_uri": "https://localhost:8080/",
          "height": 696
        },
        "id": "l2IeZMJOG0Lr",
        "outputId": "74bcc199-f7f4-4ec5-b38e-79138c409a4a"
      },
      "source": [
        "from textblob import TextBlob\r\n",
        "from tqdm import tqdm\r\n",
        "reviews = df_all['review_clean']\r\n",
        "\r\n",
        "Predict_Sentiment = []\r\n",
        "for review in tqdm(reviews):\r\n",
        "    blob = TextBlob(review)\r\n",
        "    Predict_Sentiment += [blob.sentiment.polarity]\r\n",
        "df_all[\"Predict_Sentiment\"] = Predict_Sentiment\r\n",
        "df_all.head()"
      ],
      "execution_count": null,
      "outputs": [
        {
          "output_type": "stream",
          "text": [
            "100%|██████████| 212698/212698 [00:58<00:00, 3665.45it/s]\n"
          ],
          "name": "stderr"
        },
        {
          "output_type": "execute_result",
          "data": {
            "text/html": [
              "<div>\n",
              "<style scoped>\n",
              "    .dataframe tbody tr th:only-of-type {\n",
              "        vertical-align: middle;\n",
              "    }\n",
              "\n",
              "    .dataframe tbody tr th {\n",
              "        vertical-align: top;\n",
              "    }\n",
              "\n",
              "    .dataframe thead th {\n",
              "        text-align: right;\n",
              "    }\n",
              "</style>\n",
              "<table border=\"1\" class=\"dataframe\">\n",
              "  <thead>\n",
              "    <tr style=\"text-align: right;\">\n",
              "      <th></th>\n",
              "      <th>level_0</th>\n",
              "      <th>uniqueID</th>\n",
              "      <th>drugName</th>\n",
              "      <th>condition</th>\n",
              "      <th>review</th>\n",
              "      <th>rating</th>\n",
              "      <th>date</th>\n",
              "      <th>usefulCount</th>\n",
              "      <th>sentiment</th>\n",
              "      <th>review_clean</th>\n",
              "      <th>day</th>\n",
              "      <th>year</th>\n",
              "      <th>month</th>\n",
              "      <th>Predict_Sentiment</th>\n",
              "    </tr>\n",
              "  </thead>\n",
              "  <tbody>\n",
              "    <tr>\n",
              "      <th>165087</th>\n",
              "      <td>166011</td>\n",
              "      <td>30482</td>\n",
              "      <td>Klonopin</td>\n",
              "      <td>Restless Legs Syndrome</td>\n",
              "      <td>\"Klonopin is as effective as turning off a swi...</td>\n",
              "      <td>9</td>\n",
              "      <td>2008-07-30</td>\n",
              "      <td>125</td>\n",
              "      <td>1</td>\n",
              "      <td>klonopin effect turn switch no toler problem y...</td>\n",
              "      <td>30</td>\n",
              "      <td>2008</td>\n",
              "      <td>7</td>\n",
              "      <td>0.000000</td>\n",
              "    </tr>\n",
              "    <tr>\n",
              "      <th>186491</th>\n",
              "      <td>187534</td>\n",
              "      <td>193560</td>\n",
              "      <td>Cyclobenzaprine</td>\n",
              "      <td>Muscle Spasm</td>\n",
              "      <td>\"My back pain is about 80% gone, but I am real...</td>\n",
              "      <td>6</td>\n",
              "      <td>2009-11-04</td>\n",
              "      <td>1</td>\n",
              "      <td>1</td>\n",
              "      <td>back pain gone realli constip sinc sunday wedn...</td>\n",
              "      <td>4</td>\n",
              "      <td>2009</td>\n",
              "      <td>11</td>\n",
              "      <td>0.000000</td>\n",
              "    </tr>\n",
              "    <tr>\n",
              "      <th>201271</th>\n",
              "      <td>202390</td>\n",
              "      <td>155532</td>\n",
              "      <td>Metronidazole</td>\n",
              "      <td>Bacterial Vaginitis</td>\n",
              "      <td>\"1 star rating for the pills. 10 stars for the...</td>\n",
              "      <td>5</td>\n",
              "      <td>2014-09-04</td>\n",
              "      <td>21</td>\n",
              "      <td>0</td>\n",
              "      <td>star rate pill star cream diagnos urinari trac...</td>\n",
              "      <td>4</td>\n",
              "      <td>2014</td>\n",
              "      <td>9</td>\n",
              "      <td>0.023333</td>\n",
              "    </tr>\n",
              "    <tr>\n",
              "      <th>198372</th>\n",
              "      <td>199480</td>\n",
              "      <td>125305</td>\n",
              "      <td>Dulcolax</td>\n",
              "      <td>Constipation</td>\n",
              "      <td>\"I took 1 pill and about 6 hours later I was i...</td>\n",
              "      <td>3</td>\n",
              "      <td>2015-12-13</td>\n",
              "      <td>8</td>\n",
              "      <td>0</td>\n",
              "      <td>took pill hour later extrem pain next hour cra...</td>\n",
              "      <td>13</td>\n",
              "      <td>2015</td>\n",
              "      <td>12</td>\n",
              "      <td>-0.190278</td>\n",
              "    </tr>\n",
              "    <tr>\n",
              "      <th>204680</th>\n",
              "      <td>205811</td>\n",
              "      <td>32119</td>\n",
              "      <td>Wellbutrin XL</td>\n",
              "      <td>Depression</td>\n",
              "      <td>\"This medicine has saved my life.  I was on it...</td>\n",
              "      <td>10</td>\n",
              "      <td>2014-03-01</td>\n",
              "      <td>149</td>\n",
              "      <td>1</td>\n",
              "      <td>medicin save life sever year mg felt help quit...</td>\n",
              "      <td>1</td>\n",
              "      <td>2014</td>\n",
              "      <td>3</td>\n",
              "      <td>-0.041667</td>\n",
              "    </tr>\n",
              "  </tbody>\n",
              "</table>\n",
              "</div>"
            ],
            "text/plain": [
              "        level_0  uniqueID         drugName  ...  year month  Predict_Sentiment\n",
              "165087   166011     30482         Klonopin  ...  2008     7           0.000000\n",
              "186491   187534    193560  Cyclobenzaprine  ...  2009    11           0.000000\n",
              "201271   202390    155532    Metronidazole  ...  2014     9           0.023333\n",
              "198372   199480    125305         Dulcolax  ...  2015    12          -0.190278\n",
              "204680   205811     32119    Wellbutrin XL  ...  2014     3          -0.041667\n",
              "\n",
              "[5 rows x 14 columns]"
            ]
          },
          "metadata": {
            "tags": []
          },
          "execution_count": 50
        }
      ]
    },
    {
      "cell_type": "code",
      "metadata": {
        "colab": {
          "base_uri": "https://localhost:8080/"
        },
        "id": "uPqI9r1JG6Tr",
        "outputId": "82226790-6a5f-43ab-bef8-681d373bfc75"
      },
      "source": [
        "reviews = df_all['review']\r\n",
        "\r\n",
        "Predict_Sentiment = []\r\n",
        "for review in tqdm(reviews):\r\n",
        "    blob = TextBlob(review)\r\n",
        "    Predict_Sentiment += [blob.sentiment.polarity]\r\n",
        "df_all[\"Predict_Sentiment2\"] = Predict_Sentiment"
      ],
      "execution_count": null,
      "outputs": [
        {
          "output_type": "stream",
          "text": [
            "100%|██████████| 212698/212698 [01:55<00:00, 1840.82it/s]\n"
          ],
          "name": "stderr"
        }
      ]
    },
    {
      "cell_type": "markdown",
      "metadata": {
        "id": "SCUEeHieT03I"
      },
      "source": [
        "**creating New features for Light Gradient boosting method**"
      ]
    },
    {
      "cell_type": "code",
      "metadata": {
        "colab": {
          "base_uri": "https://localhost:8080/"
        },
        "id": "DgDMPm_WHJya",
        "outputId": "d818336d-a3b8-4979-a4f4-bc0b197fb4a4"
      },
      "source": [
        "import string\r\n",
        "\r\n",
        "df_all['count_sent']=df_all[\"review\"].apply(lambda x: len(re.findall(\"\\n\",str(x)))+1)\r\n",
        "\r\n",
        "\r\n",
        "df_all['count_word']=df_all[\"review_clean\"].apply(lambda x: len(str(x).split()))\r\n",
        "\r\n",
        "\r\n",
        "df_all['count_unique_word']=df_all[\"review_clean\"].apply(lambda x: len(set(str(x).split())))\r\n",
        "\r\n",
        "\r\n",
        "df_all['count_letters']=df_all[\"review_clean\"].apply(lambda x: len(str(x)))\r\n",
        "\r\n",
        "\r\n",
        "df_all[\"count_punctuations\"] = df_all[\"review\"].apply(lambda x: len([c for c in str(x) if c in string.punctuation]))\r\n",
        "\r\n",
        "\r\n",
        "df_all[\"count_words_upper\"] = df_all[\"review\"].apply(lambda x: len([w for w in str(x).split() if w.isupper()]))\r\n",
        "\r\n",
        "\r\n",
        "df_all[\"count_words_title\"] = df_all[\"review\"].apply(lambda x: len([w for w in str(x).split() if w.istitle()]))\r\n",
        "\r\n",
        "\r\n",
        "df_all[\"count_stopwords\"] = df_all[\"review\"].apply(lambda x: len([w for w in str(x).lower().split() if w in stops]))\r\n",
        "\r\n",
        "\r\n",
        "df_all[\"mean_word_len\"] = df_all[\"review_clean\"].apply(lambda x: np.mean([len(w) for w in str(x).split()]))"
      ],
      "execution_count": null,
      "outputs": [
        {
          "output_type": "stream",
          "text": [
            "/usr/local/lib/python3.7/dist-packages/numpy/core/fromnumeric.py:3373: RuntimeWarning: Mean of empty slice.\n",
            "  out=out, **kwargs)\n"
          ],
          "name": "stderr"
        }
      ]
    },
    {
      "cell_type": "code",
      "metadata": {
        "id": "-tKn15XYHshe"
      },
      "source": [
        "df_all['season'] = df_all[\"month\"].apply(lambda x: 1 if ((x>2) & (x<6)) else(2 if (x>5) & (x<9) else (3 if (x>8) & (x<12) else 4)))"
      ],
      "execution_count": null,
      "outputs": []
    },
    {
      "cell_type": "code",
      "metadata": {
        "id": "oNSJkMd1IBkR"
      },
      "source": [
        "df_train = df_all[:len_train]\r\n",
        "df_test = df_all[len_train:]"
      ],
      "execution_count": null,
      "outputs": []
    },
    {
      "cell_type": "code",
      "metadata": {
        "colab": {
          "base_uri": "https://localhost:8080/"
        },
        "id": "QpMc2ktSIFat",
        "outputId": "9177b974-ad72-4e17-c0ce-1f01c8fa0401"
      },
      "source": [
        "df_train.shape"
      ],
      "execution_count": null,
      "outputs": [
        {
          "output_type": "execute_result",
          "data": {
            "text/plain": [
              "(142507, 25)"
            ]
          },
          "metadata": {
            "tags": []
          },
          "execution_count": 55
        }
      ]
    },
    {
      "cell_type": "code",
      "metadata": {
        "colab": {
          "base_uri": "https://localhost:8080/"
        },
        "id": "jdVqL8ZGIH4e",
        "outputId": "48e05ebc-b115-4146-ef95-147f6508e9c5"
      },
      "source": [
        "df_test.shape"
      ],
      "execution_count": null,
      "outputs": [
        {
          "output_type": "execute_result",
          "data": {
            "text/plain": [
              "(70191, 25)"
            ]
          },
          "metadata": {
            "tags": []
          },
          "execution_count": 56
        }
      ]
    },
    {
      "cell_type": "markdown",
      "metadata": {
        "id": "s0PFVWv1T7VX"
      },
      "source": [
        "**Light Gradient Boosting Method (LGBM)**"
      ]
    },
    {
      "cell_type": "code",
      "metadata": {
        "id": "XJKtBhQ8IJp7"
      },
      "source": [
        "from sklearn.metrics import roc_auc_score, precision_recall_curve, roc_curve, average_precision_score\r\n",
        "from sklearn.model_selection import KFold\r\n",
        "from lightgbm import LGBMClassifier\r\n",
        "\r\n",
        "#folds = KFold(n_splits=5, shuffle=True, random_state=546789)\r\n",
        "target = df_train['sentiment']\r\n",
        "feats = ['usefulCount','day','year','month','Predict_Sentiment','Predict_Sentiment2', 'count_sent',\r\n",
        " 'count_word', 'count_unique_word', 'count_letters', 'count_punctuations',\r\n",
        " 'count_words_upper', 'count_words_title', 'count_stopwords', 'mean_word_len', 'season']\r\n",
        "\r\n",
        "sub_preds = np.zeros(df_test.shape[0])\r\n",
        "\r\n",
        "trn_x, val_x, trn_y, val_y = train_test_split(df_train[feats], target, test_size=0.2, random_state=42) \r\n",
        "feature_importance_df = pd.DataFrame() \r\n",
        "    \r\n",
        "clf = LGBMClassifier(\r\n",
        "        n_estimators=10000,\r\n",
        "        learning_rate=0.10,\r\n",
        "        num_leaves=30,\r\n",
        "        #colsample_bytree=.9,\r\n",
        "        subsample=.9,\r\n",
        "        max_depth=7,\r\n",
        "        reg_alpha=.1,\r\n",
        "        reg_lambda=.1,\r\n",
        "        min_split_gain=.01,\r\n",
        "        min_child_weight=2,\r\n",
        "        silent=-1,\r\n",
        "        verbose=-1,\r\n",
        "        )"
      ],
      "execution_count": null,
      "outputs": []
    },
    {
      "cell_type": "code",
      "metadata": {
        "colab": {
          "base_uri": "https://localhost:8080/"
        },
        "id": "o05OMuiYIL_x",
        "outputId": "fd9e8f8a-eef9-4900-bc87-06ccd2bf6efd"
      },
      "source": [
        "clf.fit(trn_x, trn_y, \r\n",
        "        eval_set= [(trn_x, trn_y), (val_x, val_y)], \r\n",
        "        verbose=100, early_stopping_rounds=100  #30\r\n",
        "    )"
      ],
      "execution_count": null,
      "outputs": [
        {
          "output_type": "stream",
          "text": [
            "Training until validation scores don't improve for 100 rounds.\n",
            "[100]\ttraining's binary_logloss: 0.480621\tvalid_1's binary_logloss: 0.498753\n",
            "[200]\ttraining's binary_logloss: 0.462441\tvalid_1's binary_logloss: 0.493264\n",
            "[300]\ttraining's binary_logloss: 0.446657\tvalid_1's binary_logloss: 0.488528\n",
            "[400]\ttraining's binary_logloss: 0.432536\tvalid_1's binary_logloss: 0.484689\n",
            "[500]\ttraining's binary_logloss: 0.419287\tvalid_1's binary_logloss: 0.481016\n",
            "[600]\ttraining's binary_logloss: 0.406783\tvalid_1's binary_logloss: 0.477119\n",
            "[700]\ttraining's binary_logloss: 0.395193\tvalid_1's binary_logloss: 0.473818\n",
            "[800]\ttraining's binary_logloss: 0.383685\tvalid_1's binary_logloss: 0.47075\n",
            "[900]\ttraining's binary_logloss: 0.373257\tvalid_1's binary_logloss: 0.467513\n",
            "[1000]\ttraining's binary_logloss: 0.363796\tvalid_1's binary_logloss: 0.465293\n",
            "[1100]\ttraining's binary_logloss: 0.354994\tvalid_1's binary_logloss: 0.462927\n",
            "[1200]\ttraining's binary_logloss: 0.345802\tvalid_1's binary_logloss: 0.460263\n",
            "[1300]\ttraining's binary_logloss: 0.337194\tvalid_1's binary_logloss: 0.458087\n",
            "[1400]\ttraining's binary_logloss: 0.328956\tvalid_1's binary_logloss: 0.455947\n",
            "[1500]\ttraining's binary_logloss: 0.3202\tvalid_1's binary_logloss: 0.453525\n",
            "[1600]\ttraining's binary_logloss: 0.312013\tvalid_1's binary_logloss: 0.451484\n",
            "[1700]\ttraining's binary_logloss: 0.304476\tvalid_1's binary_logloss: 0.449215\n",
            "[1800]\ttraining's binary_logloss: 0.297382\tvalid_1's binary_logloss: 0.447874\n",
            "[1900]\ttraining's binary_logloss: 0.290615\tvalid_1's binary_logloss: 0.44582\n",
            "[2000]\ttraining's binary_logloss: 0.283615\tvalid_1's binary_logloss: 0.443913\n",
            "[2100]\ttraining's binary_logloss: 0.276906\tvalid_1's binary_logloss: 0.441912\n",
            "[2200]\ttraining's binary_logloss: 0.27056\tvalid_1's binary_logloss: 0.440161\n",
            "[2300]\ttraining's binary_logloss: 0.264238\tvalid_1's binary_logloss: 0.438346\n",
            "[2400]\ttraining's binary_logloss: 0.25837\tvalid_1's binary_logloss: 0.436671\n",
            "[2500]\ttraining's binary_logloss: 0.252378\tvalid_1's binary_logloss: 0.434714\n",
            "[2600]\ttraining's binary_logloss: 0.246637\tvalid_1's binary_logloss: 0.433155\n",
            "[2700]\ttraining's binary_logloss: 0.240348\tvalid_1's binary_logloss: 0.431453\n",
            "[2800]\ttraining's binary_logloss: 0.234887\tvalid_1's binary_logloss: 0.430112\n",
            "[2900]\ttraining's binary_logloss: 0.229986\tvalid_1's binary_logloss: 0.428526\n",
            "[3000]\ttraining's binary_logloss: 0.225138\tvalid_1's binary_logloss: 0.427153\n",
            "[3100]\ttraining's binary_logloss: 0.219832\tvalid_1's binary_logloss: 0.425591\n",
            "[3200]\ttraining's binary_logloss: 0.214764\tvalid_1's binary_logloss: 0.424325\n",
            "[3300]\ttraining's binary_logloss: 0.21028\tvalid_1's binary_logloss: 0.423189\n",
            "[3400]\ttraining's binary_logloss: 0.206143\tvalid_1's binary_logloss: 0.422361\n",
            "[3500]\ttraining's binary_logloss: 0.201702\tvalid_1's binary_logloss: 0.421539\n",
            "[3600]\ttraining's binary_logloss: 0.197391\tvalid_1's binary_logloss: 0.420863\n",
            "[3700]\ttraining's binary_logloss: 0.192934\tvalid_1's binary_logloss: 0.419867\n",
            "[3800]\ttraining's binary_logloss: 0.188455\tvalid_1's binary_logloss: 0.41926\n",
            "[3900]\ttraining's binary_logloss: 0.184277\tvalid_1's binary_logloss: 0.418315\n",
            "[4000]\ttraining's binary_logloss: 0.180087\tvalid_1's binary_logloss: 0.417595\n",
            "[4100]\ttraining's binary_logloss: 0.176257\tvalid_1's binary_logloss: 0.416936\n",
            "[4200]\ttraining's binary_logloss: 0.172251\tvalid_1's binary_logloss: 0.415839\n",
            "[4300]\ttraining's binary_logloss: 0.168361\tvalid_1's binary_logloss: 0.415084\n",
            "[4400]\ttraining's binary_logloss: 0.164718\tvalid_1's binary_logloss: 0.414685\n",
            "[4500]\ttraining's binary_logloss: 0.16124\tvalid_1's binary_logloss: 0.414306\n",
            "[4600]\ttraining's binary_logloss: 0.157807\tvalid_1's binary_logloss: 0.413693\n",
            "[4700]\ttraining's binary_logloss: 0.154299\tvalid_1's binary_logloss: 0.413357\n",
            "[4800]\ttraining's binary_logloss: 0.151081\tvalid_1's binary_logloss: 0.413037\n",
            "[4900]\ttraining's binary_logloss: 0.147796\tvalid_1's binary_logloss: 0.412366\n",
            "[5000]\ttraining's binary_logloss: 0.144693\tvalid_1's binary_logloss: 0.412108\n",
            "[5100]\ttraining's binary_logloss: 0.14157\tvalid_1's binary_logloss: 0.411761\n",
            "[5200]\ttraining's binary_logloss: 0.13838\tvalid_1's binary_logloss: 0.411104\n",
            "[5300]\ttraining's binary_logloss: 0.135429\tvalid_1's binary_logloss: 0.410706\n",
            "[5400]\ttraining's binary_logloss: 0.132525\tvalid_1's binary_logloss: 0.410291\n",
            "[5500]\ttraining's binary_logloss: 0.129636\tvalid_1's binary_logloss: 0.409664\n",
            "[5600]\ttraining's binary_logloss: 0.126909\tvalid_1's binary_logloss: 0.409315\n",
            "[5700]\ttraining's binary_logloss: 0.12424\tvalid_1's binary_logloss: 0.408981\n",
            "[5800]\ttraining's binary_logloss: 0.121604\tvalid_1's binary_logloss: 0.408592\n",
            "[5900]\ttraining's binary_logloss: 0.119043\tvalid_1's binary_logloss: 0.408209\n",
            "[6000]\ttraining's binary_logloss: 0.11652\tvalid_1's binary_logloss: 0.407868\n",
            "[6100]\ttraining's binary_logloss: 0.114163\tvalid_1's binary_logloss: 0.407511\n",
            "[6200]\ttraining's binary_logloss: 0.111795\tvalid_1's binary_logloss: 0.407187\n",
            "[6300]\ttraining's binary_logloss: 0.109517\tvalid_1's binary_logloss: 0.406842\n",
            "Early stopping, best iteration is:\n",
            "[6295]\ttraining's binary_logloss: 0.109627\tvalid_1's binary_logloss: 0.406778\n"
          ],
          "name": "stdout"
        },
        {
          "output_type": "execute_result",
          "data": {
            "text/plain": [
              "LGBMClassifier(boosting_type='gbdt', class_weight=None, colsample_bytree=1.0,\n",
              "               importance_type='split', learning_rate=0.1, max_depth=7,\n",
              "               min_child_samples=20, min_child_weight=2, min_split_gain=0.01,\n",
              "               n_estimators=10000, n_jobs=-1, num_leaves=30, objective=None,\n",
              "               random_state=None, reg_alpha=0.1, reg_lambda=0.1, silent=-1,\n",
              "               subsample=0.9, subsample_for_bin=200000, subsample_freq=0,\n",
              "               verbose=-1)"
            ]
          },
          "metadata": {
            "tags": []
          },
          "execution_count": 58
        }
      ]
    },
    {
      "cell_type": "code",
      "metadata": {
        "id": "041S3-uKIOAf"
      },
      "source": [
        "sub_preds = clf.predict(df_test[feats])"
      ],
      "execution_count": null,
      "outputs": []
    },
    {
      "cell_type": "markdown",
      "metadata": {
        "id": "AHbIRwlfUOgc"
      },
      "source": [
        "**Importance of the features in LGBM**"
      ]
    },
    {
      "cell_type": "code",
      "metadata": {
        "id": "uzFtfLuDIaWf"
      },
      "source": [
        "fold_importance_df = pd.DataFrame()\r\n",
        "fold_importance_df[\"feature\"] = feats\r\n",
        "fold_importance_df[\"importance\"] = clf.feature_importances_\r\n",
        "feature_importance_df = pd.concat([feature_importance_df, fold_importance_df], axis=0)"
      ],
      "execution_count": null,
      "outputs": []
    },
    {
      "cell_type": "code",
      "metadata": {
        "colab": {
          "base_uri": "https://localhost:8080/",
          "height": 541
        },
        "id": "xk-V4ihxIdHS",
        "outputId": "2d13413d-af9b-46eb-8df5-c17535c6499a"
      },
      "source": [
        "feature_importance_df"
      ],
      "execution_count": null,
      "outputs": [
        {
          "output_type": "execute_result",
          "data": {
            "text/html": [
              "<div>\n",
              "<style scoped>\n",
              "    .dataframe tbody tr th:only-of-type {\n",
              "        vertical-align: middle;\n",
              "    }\n",
              "\n",
              "    .dataframe tbody tr th {\n",
              "        vertical-align: top;\n",
              "    }\n",
              "\n",
              "    .dataframe thead th {\n",
              "        text-align: right;\n",
              "    }\n",
              "</style>\n",
              "<table border=\"1\" class=\"dataframe\">\n",
              "  <thead>\n",
              "    <tr style=\"text-align: right;\">\n",
              "      <th></th>\n",
              "      <th>feature</th>\n",
              "      <th>importance</th>\n",
              "    </tr>\n",
              "  </thead>\n",
              "  <tbody>\n",
              "    <tr>\n",
              "      <th>0</th>\n",
              "      <td>usefulCount</td>\n",
              "      <td>16941</td>\n",
              "    </tr>\n",
              "    <tr>\n",
              "      <th>1</th>\n",
              "      <td>day</td>\n",
              "      <td>14162</td>\n",
              "    </tr>\n",
              "    <tr>\n",
              "      <th>2</th>\n",
              "      <td>year</td>\n",
              "      <td>7582</td>\n",
              "    </tr>\n",
              "    <tr>\n",
              "      <th>3</th>\n",
              "      <td>month</td>\n",
              "      <td>8948</td>\n",
              "    </tr>\n",
              "    <tr>\n",
              "      <th>4</th>\n",
              "      <td>Predict_Sentiment</td>\n",
              "      <td>17626</td>\n",
              "    </tr>\n",
              "    <tr>\n",
              "      <th>5</th>\n",
              "      <td>Predict_Sentiment2</td>\n",
              "      <td>19362</td>\n",
              "    </tr>\n",
              "    <tr>\n",
              "      <th>6</th>\n",
              "      <td>count_sent</td>\n",
              "      <td>1631</td>\n",
              "    </tr>\n",
              "    <tr>\n",
              "      <th>7</th>\n",
              "      <td>count_word</td>\n",
              "      <td>7743</td>\n",
              "    </tr>\n",
              "    <tr>\n",
              "      <th>8</th>\n",
              "      <td>count_unique_word</td>\n",
              "      <td>9633</td>\n",
              "    </tr>\n",
              "    <tr>\n",
              "      <th>9</th>\n",
              "      <td>count_letters</td>\n",
              "      <td>13717</td>\n",
              "    </tr>\n",
              "    <tr>\n",
              "      <th>10</th>\n",
              "      <td>count_punctuations</td>\n",
              "      <td>12546</td>\n",
              "    </tr>\n",
              "    <tr>\n",
              "      <th>11</th>\n",
              "      <td>count_words_upper</td>\n",
              "      <td>7189</td>\n",
              "    </tr>\n",
              "    <tr>\n",
              "      <th>12</th>\n",
              "      <td>count_words_title</td>\n",
              "      <td>8890</td>\n",
              "    </tr>\n",
              "    <tr>\n",
              "      <th>13</th>\n",
              "      <td>count_stopwords</td>\n",
              "      <td>14260</td>\n",
              "    </tr>\n",
              "    <tr>\n",
              "      <th>14</th>\n",
              "      <td>mean_word_len</td>\n",
              "      <td>19110</td>\n",
              "    </tr>\n",
              "    <tr>\n",
              "      <th>15</th>\n",
              "      <td>season</td>\n",
              "      <td>2199</td>\n",
              "    </tr>\n",
              "  </tbody>\n",
              "</table>\n",
              "</div>"
            ],
            "text/plain": [
              "               feature  importance\n",
              "0          usefulCount       16941\n",
              "1                  day       14162\n",
              "2                 year        7582\n",
              "3                month        8948\n",
              "4    Predict_Sentiment       17626\n",
              "5   Predict_Sentiment2       19362\n",
              "6           count_sent        1631\n",
              "7           count_word        7743\n",
              "8    count_unique_word        9633\n",
              "9        count_letters       13717\n",
              "10  count_punctuations       12546\n",
              "11   count_words_upper        7189\n",
              "12   count_words_title        8890\n",
              "13     count_stopwords       14260\n",
              "14       mean_word_len       19110\n",
              "15              season        2199"
            ]
          },
          "metadata": {
            "tags": []
          },
          "execution_count": 61
        }
      ]
    },
    {
      "cell_type": "code",
      "metadata": {
        "colab": {
          "base_uri": "https://localhost:8080/",
          "height": 729
        },
        "id": "jhSijbIsNeVN",
        "outputId": "2e681522-143a-42c0-d14e-f619970b836a"
      },
      "source": [
        "import seaborn as sns\r\n",
        "cols = feature_importance_df[[\"feature\", \"importance\"]].groupby(\"feature\").mean().sort_values(\r\n",
        "    by=\"importance\", ascending=False)[:50].index\r\n",
        "\r\n",
        "best_features = feature_importance_df.loc[feature_importance_df.feature.isin(cols)]\r\n",
        "\r\n",
        "plt.figure(figsize=(14,10))\r\n",
        "sns.barplot(x=\"importance\", y=\"feature\", data=best_features.sort_values(by=\"importance\", ascending=False))\r\n",
        "plt.title('LightGBM Features (avg over folds)')\r\n",
        "plt.tight_layout()\r\n",
        "plt.savefig('lgbm_importances.png')"
      ],
      "execution_count": null,
      "outputs": [
        {
          "output_type": "display_data",
          "data": {
            "image/png": "[encoded data removed]",
            "text/plain": [
              "<Figure size 1008x720 with 1 Axes>"
            ]
          },
          "metadata": {
            "tags": [],
            "needs_background": "light"
          }
        }
      ]
    },
    {
      "cell_type": "code",
      "metadata": {
        "colab": {
          "base_uri": "https://localhost:8080/"
        },
        "id": "5xiwbvwxNhjv",
        "outputId": "4361409d-87a9-445c-c16f-e460b6d32651"
      },
      "source": [
        "!kaggle datasets download -d jylee4/dictionary"
      ],
      "execution_count": null,
      "outputs": [
        {
          "output_type": "stream",
          "text": [
            "dictionary.zip: Skipping, found more recently modified local copy (use --force to force download)\n"
          ],
          "name": "stdout"
        }
      ]
    },
    {
      "cell_type": "code",
      "metadata": {
        "colab": {
          "base_uri": "https://localhost:8080/"
        },
        "id": "eugR2tJQNtSt",
        "outputId": "d17bbeb9-7e4e-4ce9-b670-a4f426a2399e"
      },
      "source": [
        "from zipfile import ZipFile\r\n",
        "file_name = \"dictionary.zip\"\r\n",
        "with ZipFile(file_name,'r') as zip:\r\n",
        "  zip.extractall()\r\n",
        "  print('Done!')"
      ],
      "execution_count": null,
      "outputs": [
        {
          "output_type": "stream",
          "text": [
            "Done!\n"
          ],
          "name": "stdout"
        }
      ]
    },
    {
      "cell_type": "markdown",
      "metadata": {
        "id": "ck0FRdhEUZnz"
      },
      "source": [
        "Because the package used for prediction of 'Predict value' is formed with movie review data, it can be unsuitable for this project which analyzes reviews for drugs. To make up for this, we conducted additional emotional analysis using the Harvard emotional dictionary."
      ]
    },
    {
      "cell_type": "code",
      "metadata": {
        "id": "2cpS7QGHNvR_"
      },
      "source": [
        "# import dictionary data\r\n",
        "word_table = pd.read_csv(\"inquirerbasic.csv\")"
      ],
      "execution_count": null,
      "outputs": []
    },
    {
      "cell_type": "code",
      "metadata": {
        "colab": {
          "base_uri": "https://localhost:8080/"
        },
        "id": "iofBMySpNyAK",
        "outputId": "921e65d7-ffe1-413c-ffd2-ad86eec33acd"
      },
      "source": [
        "##1. make list of sentiment\r\n",
        "#Positiv word list   \r\n",
        "temp_Positiv = []\r\n",
        "Positiv_word_list = []\r\n",
        "for i in range(0,len(word_table.Positiv)):\r\n",
        "    if word_table.iloc[i,2] == \"Positiv\":\r\n",
        "        temp = word_table.iloc[i,0].lower()\r\n",
        "        temp1 = re.sub('\\d+', '', temp)\r\n",
        "        temp2 = re.sub('#', '', temp1) \r\n",
        "        temp_Positiv.append(temp2)\r\n",
        "\r\n",
        "Positiv_word_list = list(set(temp_Positiv))\r\n",
        "len(temp_Positiv)\r\n",
        "len(Positiv_word_list)  #del temp_Positiv\r\n",
        "\r\n",
        "#Negativ word list          \r\n",
        "temp_Negativ = []\r\n",
        "Negativ_word_list = []\r\n",
        "for i in range(0,len(word_table.Negativ)):\r\n",
        "    if word_table.iloc[i,3] == \"Negativ\":\r\n",
        "        temp = word_table.iloc[i,0].lower()\r\n",
        "        temp1 = re.sub('\\d+', '', temp)\r\n",
        "        temp2 = re.sub('#', '', temp1) \r\n",
        "        temp_Negativ.append(temp2)\r\n",
        "\r\n",
        "Negativ_word_list = list(set(temp_Negativ))\r\n",
        "len(temp_Negativ)\r\n",
        "len(Negativ_word_list)  #del temp_Negativ"
      ],
      "execution_count": null,
      "outputs": [
        {
          "output_type": "execute_result",
          "data": {
            "text/plain": [
              "2006"
            ]
          },
          "metadata": {
            "tags": []
          },
          "execution_count": 66
        }
      ]
    },
    {
      "cell_type": "code",
      "metadata": {
        "colab": {
          "base_uri": "https://localhost:8080/"
        },
        "id": "nKcgiP3mN0eN",
        "outputId": "7d4e7ab2-9b98-4616-8005-e17d4c760800"
      },
      "source": [
        "##2. counting the word 98590\r\n",
        "import numpy as np\r\n",
        "from sklearn.feature_extraction.text import CountVectorizer\r\n",
        "\r\n",
        "vectorizer = CountVectorizer(vocabulary = Positiv_word_list)\r\n",
        "content = df_test['review_clean']\r\n",
        "X = vectorizer.fit_transform(content)\r\n",
        "f = X.toarray()\r\n",
        "f = pd.DataFrame(f)\r\n",
        "f.columns=Positiv_word_list\r\n",
        "df_test[\"num_Positiv_word\"] = f.sum(axis=1)\r\n",
        "\r\n",
        "vectorizer2 = CountVectorizer(vocabulary = Negativ_word_list)\r\n",
        "content = df_test['review_clean']\r\n",
        "X2 = vectorizer2.fit_transform(content)\r\n",
        "f2 = X2.toarray()\r\n",
        "f2 = pd.DataFrame(f2)\r\n",
        "f2.columns=Negativ_word_list\r\n",
        "df_test[\"num_Negativ_word\"] = f2.sum(axis=1)"
      ],
      "execution_count": null,
      "outputs": [
        {
          "output_type": "stream",
          "text": [
            "/usr/local/lib/python3.7/dist-packages/ipykernel_launcher.py:11: SettingWithCopyWarning: \n",
            "A value is trying to be set on a copy of a slice from a DataFrame.\n",
            "Try using .loc[row_indexer,col_indexer] = value instead\n",
            "\n",
            "See the caveats in the documentation: https://pandas.pydata.org/pandas-docs/stable/user_guide/indexing.html#returning-a-view-versus-a-copy\n",
            "  # This is added back by InteractiveShellApp.init_path()\n",
            "/usr/local/lib/python3.7/dist-packages/ipykernel_launcher.py:19: SettingWithCopyWarning: \n",
            "A value is trying to be set on a copy of a slice from a DataFrame.\n",
            "Try using .loc[row_indexer,col_indexer] = value instead\n",
            "\n",
            "See the caveats in the documentation: https://pandas.pydata.org/pandas-docs/stable/user_guide/indexing.html#returning-a-view-versus-a-copy\n"
          ],
          "name": "stderr"
        }
      ]
    },
    {
      "cell_type": "code",
      "metadata": {
        "colab": {
          "base_uri": "https://localhost:8080/",
          "height": 764
        },
        "id": "a93Z05qDN3DU",
        "outputId": "9152853f-4e1d-4471-c321-5d89709e0f17"
      },
      "source": [
        "##3. decide sentiment\r\n",
        "df_test[\"Positiv_ratio\"] = df_test[\"num_Positiv_word\"]/(df_test[\"num_Positiv_word\"]+df_test[\"num_Negativ_word\"])\r\n",
        "df_test[\"sentiment_by_dic\"] = df_test[\"Positiv_ratio\"].apply(lambda x: 1 if (x>=0.5) else (0 if (x<0.5) else 0.5))\r\n",
        "\r\n",
        "df_test.head()"
      ],
      "execution_count": null,
      "outputs": [
        {
          "output_type": "stream",
          "text": [
            "/usr/local/lib/python3.7/dist-packages/ipykernel_launcher.py:2: SettingWithCopyWarning: \n",
            "A value is trying to be set on a copy of a slice from a DataFrame.\n",
            "Try using .loc[row_indexer,col_indexer] = value instead\n",
            "\n",
            "See the caveats in the documentation: https://pandas.pydata.org/pandas-docs/stable/user_guide/indexing.html#returning-a-view-versus-a-copy\n",
            "  \n",
            "/usr/local/lib/python3.7/dist-packages/ipykernel_launcher.py:3: SettingWithCopyWarning: \n",
            "A value is trying to be set on a copy of a slice from a DataFrame.\n",
            "Try using .loc[row_indexer,col_indexer] = value instead\n",
            "\n",
            "See the caveats in the documentation: https://pandas.pydata.org/pandas-docs/stable/user_guide/indexing.html#returning-a-view-versus-a-copy\n",
            "  This is separate from the ipykernel package so we can avoid doing imports until\n"
          ],
          "name": "stderr"
        },
        {
          "output_type": "execute_result",
          "data": {
            "text/html": [
              "<div>\n",
              "<style scoped>\n",
              "    .dataframe tbody tr th:only-of-type {\n",
              "        vertical-align: middle;\n",
              "    }\n",
              "\n",
              "    .dataframe tbody tr th {\n",
              "        vertical-align: top;\n",
              "    }\n",
              "\n",
              "    .dataframe thead th {\n",
              "        text-align: right;\n",
              "    }\n",
              "</style>\n",
              "<table border=\"1\" class=\"dataframe\">\n",
              "  <thead>\n",
              "    <tr style=\"text-align: right;\">\n",
              "      <th></th>\n",
              "      <th>level_0</th>\n",
              "      <th>uniqueID</th>\n",
              "      <th>drugName</th>\n",
              "      <th>condition</th>\n",
              "      <th>review</th>\n",
              "      <th>rating</th>\n",
              "      <th>date</th>\n",
              "      <th>usefulCount</th>\n",
              "      <th>sentiment</th>\n",
              "      <th>review_clean</th>\n",
              "      <th>day</th>\n",
              "      <th>year</th>\n",
              "      <th>month</th>\n",
              "      <th>Predict_Sentiment</th>\n",
              "      <th>Predict_Sentiment2</th>\n",
              "      <th>count_sent</th>\n",
              "      <th>count_word</th>\n",
              "      <th>count_unique_word</th>\n",
              "      <th>count_letters</th>\n",
              "      <th>count_punctuations</th>\n",
              "      <th>count_words_upper</th>\n",
              "      <th>count_words_title</th>\n",
              "      <th>count_stopwords</th>\n",
              "      <th>mean_word_len</th>\n",
              "      <th>season</th>\n",
              "      <th>num_Positiv_word</th>\n",
              "      <th>num_Negativ_word</th>\n",
              "      <th>Positiv_ratio</th>\n",
              "      <th>sentiment_by_dic</th>\n",
              "    </tr>\n",
              "  </thead>\n",
              "  <tbody>\n",
              "    <tr>\n",
              "      <th>209701</th>\n",
              "      <td>210861</td>\n",
              "      <td>17706</td>\n",
              "      <td>Ethinyl estradiol / etonogestrel</td>\n",
              "      <td>Birth Control</td>\n",
              "      <td>\"It has been effective in preventing pregnancy...</td>\n",
              "      <td>5</td>\n",
              "      <td>2015-07-29</td>\n",
              "      <td>4</td>\n",
              "      <td>0</td>\n",
              "      <td>effect prevent pregnanc howev make feel like s...</td>\n",
              "      <td>29</td>\n",
              "      <td>2015</td>\n",
              "      <td>7</td>\n",
              "      <td>-0.086111</td>\n",
              "      <td>0.062121</td>\n",
              "      <td>1</td>\n",
              "      <td>59</td>\n",
              "      <td>45</td>\n",
              "      <td>344</td>\n",
              "      <td>39</td>\n",
              "      <td>10</td>\n",
              "      <td>13</td>\n",
              "      <td>72</td>\n",
              "      <td>4.847458</td>\n",
              "      <td>2</td>\n",
              "      <td>NaN</td>\n",
              "      <td>NaN</td>\n",
              "      <td>NaN</td>\n",
              "      <td>0.5</td>\n",
              "    </tr>\n",
              "    <tr>\n",
              "      <th>175323</th>\n",
              "      <td>176310</td>\n",
              "      <td>221432</td>\n",
              "      <td>Dextromethorphan</td>\n",
              "      <td>Cough</td>\n",
              "      <td>\"Took Robitussin dm cough and chest congestion...</td>\n",
              "      <td>5</td>\n",
              "      <td>2016-01-04</td>\n",
              "      <td>4</td>\n",
              "      <td>0</td>\n",
              "      <td>took robitussin dm cough chest congest dm pers...</td>\n",
              "      <td>4</td>\n",
              "      <td>2016</td>\n",
              "      <td>1</td>\n",
              "      <td>-0.471429</td>\n",
              "      <td>-0.413968</td>\n",
              "      <td>1</td>\n",
              "      <td>26</td>\n",
              "      <td>20</td>\n",
              "      <td>153</td>\n",
              "      <td>9</td>\n",
              "      <td>1</td>\n",
              "      <td>6</td>\n",
              "      <td>19</td>\n",
              "      <td>4.923077</td>\n",
              "      <td>4</td>\n",
              "      <td>NaN</td>\n",
              "      <td>NaN</td>\n",
              "      <td>NaN</td>\n",
              "      <td>0.5</td>\n",
              "    </tr>\n",
              "    <tr>\n",
              "      <th>116297</th>\n",
              "      <td>116956</td>\n",
              "      <td>222726</td>\n",
              "      <td>Topamax</td>\n",
              "      <td>Migraine Prevention</td>\n",
              "      <td>\"It lessened the frequency of my migraines. Bu...</td>\n",
              "      <td>5</td>\n",
              "      <td>2016-02-09</td>\n",
              "      <td>34</td>\n",
              "      <td>0</td>\n",
              "      <td>lessen frequenc migrain side effect not worth ...</td>\n",
              "      <td>9</td>\n",
              "      <td>2016</td>\n",
              "      <td>2</td>\n",
              "      <td>-0.113889</td>\n",
              "      <td>-0.129861</td>\n",
              "      <td>1</td>\n",
              "      <td>40</td>\n",
              "      <td>39</td>\n",
              "      <td>232</td>\n",
              "      <td>21</td>\n",
              "      <td>5</td>\n",
              "      <td>9</td>\n",
              "      <td>39</td>\n",
              "      <td>4.825000</td>\n",
              "      <td>4</td>\n",
              "      <td>NaN</td>\n",
              "      <td>NaN</td>\n",
              "      <td>NaN</td>\n",
              "      <td>0.5</td>\n",
              "    </tr>\n",
              "    <tr>\n",
              "      <th>32346</th>\n",
              "      <td>32541</td>\n",
              "      <td>164839</td>\n",
              "      <td>Phentermine / topiramate</td>\n",
              "      <td>Weight Loss</td>\n",
              "      <td>\"I am 7 years post gastric bypass had lost 90 ...</td>\n",
              "      <td>8</td>\n",
              "      <td>2017-02-06</td>\n",
              "      <td>39</td>\n",
              "      <td>1</td>\n",
              "      <td>year post gastric bypass lost lbs babi gain ba...</td>\n",
              "      <td>6</td>\n",
              "      <td>2017</td>\n",
              "      <td>2</td>\n",
              "      <td>0.000000</td>\n",
              "      <td>0.030769</td>\n",
              "      <td>1</td>\n",
              "      <td>66</td>\n",
              "      <td>58</td>\n",
              "      <td>375</td>\n",
              "      <td>20</td>\n",
              "      <td>10</td>\n",
              "      <td>18</td>\n",
              "      <td>75</td>\n",
              "      <td>4.696970</td>\n",
              "      <td>4</td>\n",
              "      <td>5.0</td>\n",
              "      <td>11.0</td>\n",
              "      <td>0.3125</td>\n",
              "      <td>0.0</td>\n",
              "    </tr>\n",
              "    <tr>\n",
              "      <th>190967</th>\n",
              "      <td>192038</td>\n",
              "      <td>20371</td>\n",
              "      <td>Vasotec</td>\n",
              "      <td>Left Ventricular Dysfunction</td>\n",
              "      <td>\"This medication worked great for me as far as...</td>\n",
              "      <td>9</td>\n",
              "      <td>2015-06-05</td>\n",
              "      <td>7</td>\n",
              "      <td>1</td>\n",
              "      <td>medic work great far keep bp check recov heart...</td>\n",
              "      <td>5</td>\n",
              "      <td>2015</td>\n",
              "      <td>6</td>\n",
              "      <td>0.358333</td>\n",
              "      <td>0.173810</td>\n",
              "      <td>1</td>\n",
              "      <td>35</td>\n",
              "      <td>34</td>\n",
              "      <td>200</td>\n",
              "      <td>14</td>\n",
              "      <td>7</td>\n",
              "      <td>11</td>\n",
              "      <td>39</td>\n",
              "      <td>4.742857</td>\n",
              "      <td>2</td>\n",
              "      <td>NaN</td>\n",
              "      <td>NaN</td>\n",
              "      <td>NaN</td>\n",
              "      <td>0.5</td>\n",
              "    </tr>\n",
              "  </tbody>\n",
              "</table>\n",
              "</div>"
            ],
            "text/plain": [
              "        level_0  uniqueID  ... Positiv_ratio sentiment_by_dic\n",
              "209701   210861     17706  ...           NaN              0.5\n",
              "175323   176310    221432  ...           NaN              0.5\n",
              "116297   116956    222726  ...           NaN              0.5\n",
              "32346     32541    164839  ...        0.3125              0.0\n",
              "190967   192038     20371  ...           NaN              0.5\n",
              "\n",
              "[5 rows x 29 columns]"
            ]
          },
          "metadata": {
            "tags": []
          },
          "execution_count": 68
        }
      ]
    },
    {
      "cell_type": "markdown",
      "metadata": {
        "id": "TWrWM0GfUpUZ"
      },
      "source": [
        "We defined Positiv_ratio = the number of positive words / (the number of positive words+the number of negative words) If the ratio is lower than 0.5, we classified as negative and if it's higher than 0.5, we classified as positive. With remainders, we classified as neutral, which includes the sentence without either positive or negative words."
      ]
    },
    {
      "cell_type": "code",
      "metadata": {
        "id": "zBO2d5epN56e"
      },
      "source": [
        "def userful_count(data):\r\n",
        "    grouped = data.groupby(['condition']).size().reset_index(name='user_size')\r\n",
        "    data = pd.merge(data,grouped,on='condition',how='left')\r\n",
        "    return data\r\n",
        "#___________________________________________________________\r\n",
        "df_test =  userful_count(df_test) \r\n",
        "df_test['usefulCount'] = df_test['usefulCount']/df_test['user_size']"
      ],
      "execution_count": null,
      "outputs": []
    },
    {
      "cell_type": "markdown",
      "metadata": {
        "id": "lh_4LjJpUttk"
      },
      "source": [
        "As mentioned earlier, we have normalized usefulCount by condition to solve the problem that usefulCount shows bias depending on condition. You can then add three predicted emotion values and multiply them by the normalized usefulCount to get the predicted value.\r\n",
        "\r\n",
        "Now, we can recommend drug by condition in order of final predicted value."
      ]
    },
    {
      "cell_type": "code",
      "metadata": {
        "id": "iv-w_Zc0QQGR"
      },
      "source": [
        "sub_preds_deep=[]\r\n",
        "for i in range(len(testing_padded)):\r\n",
        "  sub_preds_deep.append(predict(testing_padded[i],model))\r\n",
        "  "
      ],
      "execution_count": null,
      "outputs": []
    },
    {
      "cell_type": "code",
      "metadata": {
        "id": "VyjfInoZQQG4"
      },
      "source": [
        "temp=sub_preds_deep"
      ],
      "execution_count": null,
      "outputs": []
    },
    {
      "cell_type": "code",
      "metadata": {
        "id": "mUtocfAprdTA"
      },
      "source": [
        "df = pd.DataFrame(temp)\r\n",
        "df.to_csv('sub_preds_deep_1.csv', index=False)"
      ],
      "execution_count": null,
      "outputs": []
    },
    {
      "cell_type": "code",
      "metadata": {
        "id": "vqKy52mXN_I3"
      },
      "source": [
        "df_test['deep_pred'] = sub_preds_deep\r\n",
        "df_test['machine_pred'] = sub_preds\r\n",
        "\r\n",
        "df_test['total_pred'] = (df_test['deep_pred'] + df_test['machine_pred'] + df_test['sentiment_by_dic'])*df_test['usefulCount']"
      ],
      "execution_count": null,
      "outputs": []
    },
    {
      "cell_type": "code",
      "metadata": {
        "id": "NRCImRWIOBSc"
      },
      "source": [
        "df_test = df_test.groupby(['condition','drugName']).agg({'total_pred' : ['mean']})"
      ],
      "execution_count": null,
      "outputs": []
    },
    {
      "cell_type": "code",
      "metadata": {
        "id": "L1hjXFjHlWxA"
      },
      "source": [
        "df_test.to_csv('Final_table.csv')"
      ],
      "execution_count": null,
      "outputs": []
    },
    {
      "cell_type": "code",
      "metadata": {
        "colab": {
          "base_uri": "https://localhost:8080/",
          "height": 478
        },
        "id": "q4qSIwv_Ggyb",
        "outputId": "500aa04d-f36e-4f99-e388-c6f3d7c7be96"
      },
      "source": [
        "df_test.iloc[:,0:1]"
      ],
      "execution_count": null,
      "outputs": [
        {
          "output_type": "execute_result",
          "data": {
            "text/html": [
              "<div>\n",
              "<style scoped>\n",
              "    .dataframe tbody tr th:only-of-type {\n",
              "        vertical-align: middle;\n",
              "    }\n",
              "\n",
              "    .dataframe tbody tr th {\n",
              "        vertical-align: top;\n",
              "    }\n",
              "\n",
              "    .dataframe thead tr th {\n",
              "        text-align: left;\n",
              "    }\n",
              "\n",
              "    .dataframe thead tr:last-of-type th {\n",
              "        text-align: right;\n",
              "    }\n",
              "</style>\n",
              "<table border=\"1\" class=\"dataframe\">\n",
              "  <thead>\n",
              "    <tr>\n",
              "      <th></th>\n",
              "      <th></th>\n",
              "      <th>total_pred</th>\n",
              "    </tr>\n",
              "    <tr>\n",
              "      <th></th>\n",
              "      <th></th>\n",
              "      <th>mean</th>\n",
              "    </tr>\n",
              "    <tr>\n",
              "      <th>condition</th>\n",
              "      <th>drugName</th>\n",
              "      <th></th>\n",
              "    </tr>\n",
              "  </thead>\n",
              "  <tbody>\n",
              "    <tr>\n",
              "      <th rowspan=\"5\" valign=\"top\">ADHD</th>\n",
              "      <th>Adderall</th>\n",
              "      <td>0.063206</td>\n",
              "    </tr>\n",
              "    <tr>\n",
              "      <th>Adderall XR</th>\n",
              "      <td>0.050291</td>\n",
              "    </tr>\n",
              "    <tr>\n",
              "      <th>Adzenys XR-ODT</th>\n",
              "      <td>0.008775</td>\n",
              "    </tr>\n",
              "    <tr>\n",
              "      <th>Amantadine</th>\n",
              "      <td>0.011208</td>\n",
              "    </tr>\n",
              "    <tr>\n",
              "      <th>Amphetamine</th>\n",
              "      <td>0.016205</td>\n",
              "    </tr>\n",
              "    <tr>\n",
              "      <th>...</th>\n",
              "      <th>...</th>\n",
              "      <td>...</td>\n",
              "    </tr>\n",
              "    <tr>\n",
              "      <th rowspan=\"5\" valign=\"top\">zen Shoulde</th>\n",
              "      <th>Indocin</th>\n",
              "      <td>2.692499</td>\n",
              "    </tr>\n",
              "    <tr>\n",
              "      <th>Indomethacin</th>\n",
              "      <td>3.442499</td>\n",
              "    </tr>\n",
              "    <tr>\n",
              "      <th>Naproxen</th>\n",
              "      <td>4.510781</td>\n",
              "    </tr>\n",
              "    <tr>\n",
              "      <th>Relafen</th>\n",
              "      <td>11.843622</td>\n",
              "    </tr>\n",
              "    <tr>\n",
              "      <th>Voltaren</th>\n",
              "      <td>7.560810</td>\n",
              "    </tr>\n",
              "  </tbody>\n",
              "</table>\n",
              "<p>5896 rows × 1 columns</p>\n",
              "</div>"
            ],
            "text/plain": [
              "                           total_pred\n",
              "                                 mean\n",
              "condition   drugName                 \n",
              "ADHD        Adderall         0.063206\n",
              "            Adderall XR      0.050291\n",
              "            Adzenys XR-ODT   0.008775\n",
              "            Amantadine       0.011208\n",
              "            Amphetamine      0.016205\n",
              "...                               ...\n",
              "zen Shoulde Indocin          2.692499\n",
              "            Indomethacin     3.442499\n",
              "            Naproxen         4.510781\n",
              "            Relafen         11.843622\n",
              "            Voltaren         7.560810\n",
              "\n",
              "[5896 rows x 1 columns]"
            ]
          },
          "metadata": {
            "tags": []
          },
          "execution_count": 164
        }
      ]
    },
    {
      "cell_type": "markdown",
      "metadata": {
        "id": "0YVS-vFwWKai"
      },
      "source": [
        "![table.png](data:image/png;base64,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)"
      ]
    },
    {
      "cell_type": "code",
      "metadata": {
        "colab": {
          "base_uri": "https://localhost:8080/"
        },
        "id": "KBEYJgaeKDUK",
        "outputId": "36004178-6e34-4b30-9e20-c176a825600f"
      },
      "source": [
        "df_test.columns"
      ],
      "execution_count": null,
      "outputs": [
        {
          "output_type": "execute_result",
          "data": {
            "text/plain": [
              "MultiIndex([('total_pred', 'mean')],\n",
              "           )"
            ]
          },
          "metadata": {
            "tags": []
          },
          "execution_count": 167
        }
      ]
    },
    {
      "cell_type": "code",
      "metadata": {
        "id": "DHJgaW0jKFWV"
      },
      "source": [
        "temp_file = {\r\n",
        "    'Condition':[],\r\n",
        "    'Drugname':[],\r\n",
        "    'Value':[]\r\n",
        "}"
      ],
      "execution_count": null,
      "outputs": []
    },
    {
      "cell_type": "code",
      "metadata": {
        "colab": {
          "base_uri": "https://localhost:8080/",
          "height": 416
        },
        "id": "KEYkNjUANCYG",
        "outputId": "8a04bd70-eef8-43af-bcc1-4d9d749334c6"
      },
      "source": [
        "x=0\r\n",
        "with open('Final_table.csv','r') as csv_file:\r\n",
        "    reader = csv.reader(csv_file)\r\n",
        "    for row in reader:\r\n",
        "      x=x+1;\r\n",
        "      if x<4:\r\n",
        "        continue\r\n",
        "      else:\r\n",
        "        temp_file['Condition'].append(row[0])\r\n",
        "        temp_file['Drugname'].append(row[1])\r\n",
        "        temp_file['Value'].append(row[2])\r\n",
        "\r\n",
        "df_temp=pd.DataFrame(temp_file)\r\n",
        "df"
      ],
      "execution_count": null,
      "outputs": [
        {
          "output_type": "execute_result",
          "data": {
            "text/html": [
              "<div>\n",
              "<style scoped>\n",
              "    .dataframe tbody tr th:only-of-type {\n",
              "        vertical-align: middle;\n",
              "    }\n",
              "\n",
              "    .dataframe tbody tr th {\n",
              "        vertical-align: top;\n",
              "    }\n",
              "\n",
              "    .dataframe thead th {\n",
              "        text-align: right;\n",
              "    }\n",
              "</style>\n",
              "<table border=\"1\" class=\"dataframe\">\n",
              "  <thead>\n",
              "    <tr style=\"text-align: right;\">\n",
              "      <th></th>\n",
              "      <th>0</th>\n",
              "    </tr>\n",
              "  </thead>\n",
              "  <tbody>\n",
              "    <tr>\n",
              "      <th>0</th>\n",
              "      <td>0.035618</td>\n",
              "    </tr>\n",
              "    <tr>\n",
              "      <th>1</th>\n",
              "      <td>0.010506</td>\n",
              "    </tr>\n",
              "    <tr>\n",
              "      <th>2</th>\n",
              "      <td>0.001409</td>\n",
              "    </tr>\n",
              "    <tr>\n",
              "      <th>3</th>\n",
              "      <td>0.864268</td>\n",
              "    </tr>\n",
              "    <tr>\n",
              "      <th>4</th>\n",
              "      <td>0.966137</td>\n",
              "    </tr>\n",
              "    <tr>\n",
              "      <th>...</th>\n",
              "      <td>...</td>\n",
              "    </tr>\n",
              "    <tr>\n",
              "      <th>70186</th>\n",
              "      <td>0.997467</td>\n",
              "    </tr>\n",
              "    <tr>\n",
              "      <th>70187</th>\n",
              "      <td>0.215028</td>\n",
              "    </tr>\n",
              "    <tr>\n",
              "      <th>70188</th>\n",
              "      <td>0.000606</td>\n",
              "    </tr>\n",
              "    <tr>\n",
              "      <th>70189</th>\n",
              "      <td>0.587232</td>\n",
              "    </tr>\n",
              "    <tr>\n",
              "      <th>70190</th>\n",
              "      <td>0.084926</td>\n",
              "    </tr>\n",
              "  </tbody>\n",
              "</table>\n",
              "<p>70191 rows × 1 columns</p>\n",
              "</div>"
            ],
            "text/plain": [
              "              0\n",
              "0      0.035618\n",
              "1      0.010506\n",
              "2      0.001409\n",
              "3      0.864268\n",
              "4      0.966137\n",
              "...         ...\n",
              "70186  0.997467\n",
              "70187  0.215028\n",
              "70188  0.000606\n",
              "70189  0.587232\n",
              "70190  0.084926\n",
              "\n",
              "[70191 rows x 1 columns]"
            ]
          },
          "metadata": {
            "tags": []
          },
          "execution_count": 179
        }
      ]
    },
    {
      "cell_type": "code",
      "metadata": {
        "colab": {
          "base_uri": "https://localhost:8080/"
        },
        "id": "cvyJKFKwPNbS",
        "outputId": "d4189d98-40a5-429a-bc7e-1e01f67b79e4"
      },
      "source": [
        "len(set(df_temp['Condition']))"
      ],
      "execution_count": null,
      "outputs": [
        {
          "output_type": "execute_result",
          "data": {
            "text/plain": [
              "713"
            ]
          },
          "metadata": {
            "tags": []
          },
          "execution_count": 183
        }
      ]
    },
    {
      "cell_type": "code",
      "metadata": {
        "id": "zJLJVeaAPTm2"
      },
      "source": [
        "df_temp.to_csv('Final_file.csv')"
      ],
      "execution_count": null,
      "outputs": []
    }
  ]
}